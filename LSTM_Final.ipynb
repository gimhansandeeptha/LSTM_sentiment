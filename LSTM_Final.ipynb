{
  "nbformat": 4,
  "nbformat_minor": 0,
  "metadata": {
    "colab": {
      "provenance": [],
      "collapsed_sections": [
        "kisFl6QdjTwq",
        "KrPJcTQEj29X"
      ],
      "gpuType": "T4"
    },
    "kernelspec": {
      "name": "python3",
      "display_name": "Python 3"
    },
    "language_info": {
      "name": "python"
    },
    "accelerator": "GPU"
  },
  "cells": [
    {
      "cell_type": "markdown",
      "source": [
        "#Import Libraries"
      ],
      "metadata": {
        "id": "kisFl6QdjTwq"
      }
    },
    {
      "cell_type": "code",
      "execution_count": 1,
      "metadata": {
        "id": "y9BVGar-dd2T"
      },
      "outputs": [],
      "source": [
        "import os\n",
        "import zipfile\n",
        "import numpy as np\n",
        "import pandas as pd\n",
        "# from nltk.croups import stopwords"
      ]
    },
    {
      "cell_type": "code",
      "source": [
        "import torch\n",
        "import torch.nn as nn\n",
        "import torch.optim as optim\n",
        "import torch.nn.functional as F\n",
        "from torch.utils.data import Dataset\n",
        "from torch.utils.data import DataLoader\n",
        "from torch.utils.data import TensorDataset\n",
        "from torchtext.data import get_tokenizer"
      ],
      "metadata": {
        "id": "leh3YlspNHr4"
      },
      "execution_count": 2,
      "outputs": []
    },
    {
      "cell_type": "code",
      "source": [
        "from sklearn.model_selection import train_test_split\n",
        "import seaborn as sns\n",
        "import matplotlib.pyplot as plt"
      ],
      "metadata": {
        "id": "6WKVQvcln4s_"
      },
      "execution_count": 3,
      "outputs": []
    },
    {
      "cell_type": "code",
      "source": [
        "!pip install bcolz-zipline"
      ],
      "metadata": {
        "colab": {
          "base_uri": "https://localhost:8080/"
        },
        "id": "sM1dR1lDyGxX",
        "outputId": "ea07a1e4-4025-4a75-9a92-81c8a79f0e34"
      },
      "execution_count": 4,
      "outputs": [
        {
          "output_type": "stream",
          "name": "stdout",
          "text": [
            "Collecting bcolz-zipline\n",
            "  Downloading bcolz_zipline-1.2.6-cp310-cp310-manylinux_2_17_x86_64.manylinux2014_x86_64.whl (4.8 MB)\n",
            "\u001b[2K     \u001b[90m━━━━━━━━━━━━━━━━━━━━━━━━━━━━━━━━━━━━━━━━\u001b[0m \u001b[32m4.8/4.8 MB\u001b[0m \u001b[31m16.3 MB/s\u001b[0m eta \u001b[36m0:00:00\u001b[0m\n",
            "\u001b[?25hRequirement already satisfied: numpy>=1.16 in /usr/local/lib/python3.10/dist-packages (from bcolz-zipline) (1.23.5)\n",
            "Installing collected packages: bcolz-zipline\n",
            "Successfully installed bcolz-zipline-1.2.6\n"
          ]
        }
      ]
    },
    {
      "cell_type": "code",
      "source": [
        "from collections import Counter\n",
        "import string\n",
        "import re\n",
        "import pickle\n",
        "import bcolz"
      ],
      "metadata": {
        "id": "Iyao0kqqopI_"
      },
      "execution_count": 5,
      "outputs": []
    },
    {
      "cell_type": "code",
      "source": [
        "import nltk\n",
        "nltk.download('punkt')\n",
        "nltk.download('stopwords')"
      ],
      "metadata": {
        "colab": {
          "base_uri": "https://localhost:8080/"
        },
        "id": "wV8ET1quy08H",
        "outputId": "b061c666-f8e1-4743-d529-0514f34d940e"
      },
      "execution_count": 6,
      "outputs": [
        {
          "output_type": "stream",
          "name": "stderr",
          "text": [
            "[nltk_data] Downloading package punkt to /root/nltk_data...\n",
            "[nltk_data]   Unzipping tokenizers/punkt.zip.\n",
            "[nltk_data] Downloading package stopwords to /root/nltk_data...\n",
            "[nltk_data]   Unzipping corpora/stopwords.zip.\n"
          ]
        },
        {
          "output_type": "execute_result",
          "data": {
            "text/plain": [
              "True"
            ]
          },
          "metadata": {},
          "execution_count": 6
        }
      ]
    },
    {
      "cell_type": "code",
      "source": [
        "from bs4 import BeautifulSoup\n",
        "from nltk.corpus import stopwords\n",
        "from nltk.tokenize import word_tokenize"
      ],
      "metadata": {
        "id": "xv6fWZLGlgJ5"
      },
      "execution_count": 7,
      "outputs": []
    },
    {
      "cell_type": "markdown",
      "source": [
        "#Create Embeddings"
      ],
      "metadata": {
        "id": "KrPJcTQEj29X"
      }
    },
    {
      "cell_type": "code",
      "source": [
        "folder_path = \"/content/drive/MyDrive/Datasets/\"\n",
        "extracted_folder = \"glove\"\n",
        "file_name = \"glove.6B.zip\"\n",
        "zip_file_path = os.path.join(folder_path, file_name)\n",
        "\n",
        "if not os.path.exists(zip_file_path):\n",
        "    print(\"Downloading files...\")\n",
        "    !wget --no-check-certificate \\\n",
        "        http://nlp.stanford.edu/data/glove.6B.zip \\\n",
        "        -O {zip_file_path}\n",
        "\n",
        "if not os.path.exists(os.path.join(folder_path, extracted_folder)):\n",
        "    print(\"Extracting files...\")\n",
        "    with zipfile.ZipFile(zip_file_path, 'r') as zip_ref:\n",
        "        zip_ref.extractall(os.path.join(folder_path, extracted_folder))\n",
        "\n",
        "print(\"Files are downloaded and extracted successfully\")\n"
      ],
      "metadata": {
        "colab": {
          "base_uri": "https://localhost:8080/"
        },
        "id": "vH7BQFaV12ld",
        "outputId": "edec2ca3-35d4-43de-fe40-4139688407fb"
      },
      "execution_count": 8,
      "outputs": [
        {
          "output_type": "stream",
          "name": "stdout",
          "text": [
            "Files are downloaded and extracted successfully\n"
          ]
        }
      ]
    },
    {
      "cell_type": "code",
      "source": [
        "glove_path = os.path.join(folder_path, extracted_folder)\n",
        "glove_path"
      ],
      "metadata": {
        "colab": {
          "base_uri": "https://localhost:8080/",
          "height": 0
        },
        "id": "8RISPLse3PXc",
        "outputId": "c3a19446-8c37-4cb6-e7ad-eb3a5334e24a"
      },
      "execution_count": 9,
      "outputs": [
        {
          "output_type": "execute_result",
          "data": {
            "text/plain": [
              "'/content/drive/MyDrive/Datasets/glove'"
            ],
            "application/vnd.google.colaboratory.intrinsic+json": {
              "type": "string"
            }
          },
          "metadata": {},
          "execution_count": 9
        }
      ]
    },
    {
      "cell_type": "code",
      "source": [
        "words = []\n",
        "idx = 2\n",
        "word2idx = {}\n",
        "embedding_dim =100\n",
        "vectors = []\n",
        "if not os.path.exists(f'{glove_path}/6B.100_words.pkl'):\n",
        "  with open(f'{glove_path}/glove.6B.100d.txt', 'rb') as f:\n",
        "      for l in f:\n",
        "          line = l.decode().split()\n",
        "          word = line[0]\n",
        "          words.append(word)\n",
        "          word2idx[word] = idx\n",
        "          idx += 1\n",
        "          vect = np.array(line[1:]).astype(float)\n",
        "          vectors.append(vect)\n",
        "\n",
        "  zero_embedding = np.zeros(embedding_dim)\n",
        "  mean_embedding = np.mean(np.array(vectors), axis=0)\n",
        "\n",
        "  vectors.insert(0,zero_embedding)\n",
        "  vectors.insert(1,mean_embedding)\n",
        "\n",
        "  word2idx = {'<pad>': 0, '<unk>': 1, **word2idx}\n",
        "  words = [\"<pad>\", \"<unk>\"] + words\n",
        "\n",
        "  pickle.dump(vectors, open(f'{glove_path}/6B.100.pkl', 'wb'))\n",
        "  pickle.dump(words, open(f'{glove_path}/6B.100_words.pkl', 'wb'))\n",
        "  pickle.dump(word2idx, open(f'{glove_path}/6B.100_idx.pkl', 'wb'))\n",
        "  print(\"Vectors and word indexes are created\")\n",
        "\n",
        "vectors = pickle.load(open(f'{glove_path}/6B.100.pkl', 'rb'))\n",
        "words = pickle.load(open(f'{glove_path}/6B.100_words.pkl', 'rb'))\n",
        "word2idx = pickle.load(open(f'{glove_path}/6B.100_idx.pkl', 'rb'))\n",
        "\n",
        "glove = {w: vectors[word2idx[w]] for w in words}\n"
      ],
      "metadata": {
        "id": "xhj4PKeJ_7a2"
      },
      "execution_count": 10,
      "outputs": []
    },
    {
      "cell_type": "code",
      "source": [
        "word2idx['the']"
      ],
      "metadata": {
        "colab": {
          "base_uri": "https://localhost:8080/"
        },
        "id": "obSA1RnuM34R",
        "outputId": "06ed33cc-1aec-4f73-c7bc-ffae3fd99de2"
      },
      "execution_count": 11,
      "outputs": [
        {
          "output_type": "execute_result",
          "data": {
            "text/plain": [
              "2"
            ]
          },
          "metadata": {},
          "execution_count": 11
        }
      ]
    },
    {
      "cell_type": "code",
      "source": [
        "words[:5]"
      ],
      "metadata": {
        "colab": {
          "base_uri": "https://localhost:8080/"
        },
        "id": "vt9r0uMpPTH1",
        "outputId": "939f0b2e-7d8f-4a13-8413-52bca320ae72"
      },
      "execution_count": 12,
      "outputs": [
        {
          "output_type": "execute_result",
          "data": {
            "text/plain": [
              "['<pad>', '<unk>', 'the', ',', '.']"
            ]
          },
          "metadata": {},
          "execution_count": 12
        }
      ]
    },
    {
      "cell_type": "code",
      "source": [
        "vectors[:3]"
      ],
      "metadata": {
        "colab": {
          "base_uri": "https://localhost:8080/"
        },
        "id": "JgaeovyWLONH",
        "outputId": "d53d0958-30b1-47b3-ffed-3e41a966b0fc"
      },
      "execution_count": 13,
      "outputs": [
        {
          "output_type": "execute_result",
          "data": {
            "text/plain": [
              "[array([0., 0., 0., 0., 0., 0., 0., 0., 0., 0., 0., 0., 0., 0., 0., 0., 0.,\n",
              "        0., 0., 0., 0., 0., 0., 0., 0., 0., 0., 0., 0., 0., 0., 0., 0., 0.,\n",
              "        0., 0., 0., 0., 0., 0., 0., 0., 0., 0., 0., 0., 0., 0., 0., 0., 0.,\n",
              "        0., 0., 0., 0., 0., 0., 0., 0., 0., 0., 0., 0., 0., 0., 0., 0., 0.,\n",
              "        0., 0., 0., 0., 0., 0., 0., 0., 0., 0., 0., 0., 0., 0., 0., 0., 0.,\n",
              "        0., 0., 0., 0., 0., 0., 0., 0., 0., 0., 0., 0., 0., 0., 0.]),\n",
              " array([ 0.05209832, -0.09711439, -0.13807563,  0.11075337, -0.02722767,\n",
              "        -0.00326447,  0.03176378, -0.05076864,  0.15321645, -0.0236738 ,\n",
              "        -0.00785526,  0.08436049, -0.08042014, -0.08836746, -0.01713613,\n",
              "         0.07352562, -0.16472255,  0.0547354 ,  0.15367049, -0.05284022,\n",
              "        -0.16474395, -0.00894904, -0.13604239, -0.0388938 , -0.09204607,\n",
              "         0.0287463 ,  0.02445962,  0.19419303, -0.03298013,  0.00509294,\n",
              "         0.01469035, -0.15542922,  0.03542781, -0.02936262,  0.01372898,\n",
              "        -0.06067584,  0.02025397, -0.14560238,  0.05823855,  0.01729454,\n",
              "         0.16282166,  0.18634668, -0.06337852,  0.13067289, -0.11122706,\n",
              "         0.0272163 ,  0.03867909,  0.15675607,  0.01344928,  0.1942468 ,\n",
              "        -0.01218862,  0.03659233, -0.08235391, -0.24420468,  0.07523775,\n",
              "         0.46423078,  0.0631852 ,  0.05081305, -0.38146943, -0.20739723,\n",
              "         0.03489414, -0.18234748,  0.0902132 , -0.02504103, -0.22256541,\n",
              "         0.03383024, -0.13379323, -0.14375439, -0.11264178, -0.03744004,\n",
              "         0.06188908,  0.09650583,  0.08384276,  0.19646375, -0.07446098,\n",
              "         0.00921883,  0.03034314, -0.02482691,  0.27563438,  0.02422177,\n",
              "        -0.23416687, -0.05235206,  0.1020069 , -0.03673644,  0.29402981,\n",
              "         0.05685076,  0.01759553,  0.079983  , -0.07554346,  0.14788665,\n",
              "         0.01690624,  0.07576797,  0.07596105, -0.10799952,  0.2083031 ,\n",
              "        -0.07841305,  0.08663635,  0.12381253, -0.23434524, -0.00925516]),\n",
              " array([-0.038194, -0.24487 ,  0.72812 , -0.39961 ,  0.083172,  0.043953,\n",
              "        -0.39141 ,  0.3344  , -0.57545 ,  0.087459,  0.28787 , -0.06731 ,\n",
              "         0.30906 , -0.26384 , -0.13231 , -0.20757 ,  0.33395 , -0.33848 ,\n",
              "        -0.31743 , -0.48336 ,  0.1464  , -0.37304 ,  0.34577 ,  0.052041,\n",
              "         0.44946 , -0.46971 ,  0.02628 , -0.54155 , -0.15518 , -0.14107 ,\n",
              "        -0.039722,  0.28277 ,  0.14393 ,  0.23464 , -0.31021 ,  0.086173,\n",
              "         0.20397 ,  0.52624 ,  0.17164 , -0.082378, -0.71787 , -0.41531 ,\n",
              "         0.20335 , -0.12763 ,  0.41367 ,  0.55187 ,  0.57908 , -0.33477 ,\n",
              "        -0.36559 , -0.54857 , -0.062892,  0.26584 ,  0.30205 ,  0.99775 ,\n",
              "        -0.80481 , -3.0243  ,  0.01254 , -0.36942 ,  2.2167  ,  0.72201 ,\n",
              "        -0.24978 ,  0.92136 ,  0.034514,  0.46745 ,  1.1079  , -0.19358 ,\n",
              "        -0.074575,  0.23353 , -0.052062, -0.22044 ,  0.057162, -0.15806 ,\n",
              "        -0.30798 , -0.41625 ,  0.37972 ,  0.15006 , -0.53212 , -0.2055  ,\n",
              "        -1.2526  ,  0.071624,  0.70565 ,  0.49744 , -0.42063 ,  0.26148 ,\n",
              "        -1.538   , -0.30223 , -0.073438, -0.28312 ,  0.37104 , -0.25217 ,\n",
              "         0.016215, -0.017099, -0.38984 ,  0.87424 , -0.72569 , -0.51058 ,\n",
              "        -0.52028 , -0.1459  ,  0.8278  ,  0.27062 ])]"
            ]
          },
          "metadata": {},
          "execution_count": 13
        }
      ]
    },
    {
      "cell_type": "code",
      "source": [
        "len(vectors)"
      ],
      "metadata": {
        "colab": {
          "base_uri": "https://localhost:8080/"
        },
        "id": "cp_R4e0uuUvW",
        "outputId": "472a8f08-5d19-4bcb-da98-1257a9340da7"
      },
      "execution_count": 14,
      "outputs": [
        {
          "output_type": "execute_result",
          "data": {
            "text/plain": [
              "400002"
            ]
          },
          "metadata": {},
          "execution_count": 14
        }
      ]
    },
    {
      "cell_type": "code",
      "source": [
        "glove['<pad>']"
      ],
      "metadata": {
        "colab": {
          "base_uri": "https://localhost:8080/"
        },
        "id": "9Tbjl2rh0G2Z",
        "outputId": "0bdce1d2-0b9b-4349-9e0b-245c974e2955"
      },
      "execution_count": 15,
      "outputs": [
        {
          "output_type": "execute_result",
          "data": {
            "text/plain": [
              "array([0., 0., 0., 0., 0., 0., 0., 0., 0., 0., 0., 0., 0., 0., 0., 0., 0.,\n",
              "       0., 0., 0., 0., 0., 0., 0., 0., 0., 0., 0., 0., 0., 0., 0., 0., 0.,\n",
              "       0., 0., 0., 0., 0., 0., 0., 0., 0., 0., 0., 0., 0., 0., 0., 0., 0.,\n",
              "       0., 0., 0., 0., 0., 0., 0., 0., 0., 0., 0., 0., 0., 0., 0., 0., 0.,\n",
              "       0., 0., 0., 0., 0., 0., 0., 0., 0., 0., 0., 0., 0., 0., 0., 0., 0.,\n",
              "       0., 0., 0., 0., 0., 0., 0., 0., 0., 0., 0., 0., 0., 0., 0.])"
            ]
          },
          "metadata": {},
          "execution_count": 15
        }
      ]
    },
    {
      "cell_type": "code",
      "source": [
        "type(glove)"
      ],
      "metadata": {
        "colab": {
          "base_uri": "https://localhost:8080/"
        },
        "id": "rRJ21L3i6ari",
        "outputId": "75190fd8-0392-4593-a712-9708cecdc3e0"
      },
      "execution_count": 16,
      "outputs": [
        {
          "output_type": "execute_result",
          "data": {
            "text/plain": [
              "dict"
            ]
          },
          "metadata": {},
          "execution_count": 16
        }
      ]
    },
    {
      "cell_type": "code",
      "source": [
        "len(glove)"
      ],
      "metadata": {
        "colab": {
          "base_uri": "https://localhost:8080/"
        },
        "id": "dpDRj12s6kSI",
        "outputId": "88afce7b-1382-4687-fe50-5f58b9a7a814"
      },
      "execution_count": 17,
      "outputs": [
        {
          "output_type": "execute_result",
          "data": {
            "text/plain": [
              "400002"
            ]
          },
          "metadata": {},
          "execution_count": 17
        }
      ]
    },
    {
      "cell_type": "markdown",
      "source": [
        "#Data Preperation"
      ],
      "metadata": {
        "id": "kXdDG5VaksCI"
      }
    },
    {
      "cell_type": "code",
      "source": [
        "df = pd.read_csv(\"/content/drive/MyDrive/Datasets/IMDB Dataset.csv/IMDB Dataset.csv\")"
      ],
      "metadata": {
        "id": "yodC-GL-lRuq"
      },
      "execution_count": 18,
      "outputs": []
    },
    {
      "cell_type": "code",
      "source": [
        "df.head()"
      ],
      "metadata": {
        "colab": {
          "base_uri": "https://localhost:8080/",
          "height": 206
        },
        "id": "6ozl2yTVlgCD",
        "outputId": "4ad00ef0-d12a-4267-952e-2e7c3bdad5b1"
      },
      "execution_count": 19,
      "outputs": [
        {
          "output_type": "execute_result",
          "data": {
            "text/plain": [
              "                                              review sentiment\n",
              "0  One of the other reviewers has mentioned that ...  positive\n",
              "1  A wonderful little production. <br /><br />The...  positive\n",
              "2  I thought this was a wonderful way to spend ti...  positive\n",
              "3  Basically there's a family where a little boy ...  negative\n",
              "4  Petter Mattei's \"Love in the Time of Money\" is...  positive"
            ],
            "text/html": [
              "\n",
              "  <div id=\"df-ba1c6d85-a83b-4d51-913a-81d50b9df3a7\" class=\"colab-df-container\">\n",
              "    <div>\n",
              "<style scoped>\n",
              "    .dataframe tbody tr th:only-of-type {\n",
              "        vertical-align: middle;\n",
              "    }\n",
              "\n",
              "    .dataframe tbody tr th {\n",
              "        vertical-align: top;\n",
              "    }\n",
              "\n",
              "    .dataframe thead th {\n",
              "        text-align: right;\n",
              "    }\n",
              "</style>\n",
              "<table border=\"1\" class=\"dataframe\">\n",
              "  <thead>\n",
              "    <tr style=\"text-align: right;\">\n",
              "      <th></th>\n",
              "      <th>review</th>\n",
              "      <th>sentiment</th>\n",
              "    </tr>\n",
              "  </thead>\n",
              "  <tbody>\n",
              "    <tr>\n",
              "      <th>0</th>\n",
              "      <td>One of the other reviewers has mentioned that ...</td>\n",
              "      <td>positive</td>\n",
              "    </tr>\n",
              "    <tr>\n",
              "      <th>1</th>\n",
              "      <td>A wonderful little production. &lt;br /&gt;&lt;br /&gt;The...</td>\n",
              "      <td>positive</td>\n",
              "    </tr>\n",
              "    <tr>\n",
              "      <th>2</th>\n",
              "      <td>I thought this was a wonderful way to spend ti...</td>\n",
              "      <td>positive</td>\n",
              "    </tr>\n",
              "    <tr>\n",
              "      <th>3</th>\n",
              "      <td>Basically there's a family where a little boy ...</td>\n",
              "      <td>negative</td>\n",
              "    </tr>\n",
              "    <tr>\n",
              "      <th>4</th>\n",
              "      <td>Petter Mattei's \"Love in the Time of Money\" is...</td>\n",
              "      <td>positive</td>\n",
              "    </tr>\n",
              "  </tbody>\n",
              "</table>\n",
              "</div>\n",
              "    <div class=\"colab-df-buttons\">\n",
              "\n",
              "  <div class=\"colab-df-container\">\n",
              "    <button class=\"colab-df-convert\" onclick=\"convertToInteractive('df-ba1c6d85-a83b-4d51-913a-81d50b9df3a7')\"\n",
              "            title=\"Convert this dataframe to an interactive table.\"\n",
              "            style=\"display:none;\">\n",
              "\n",
              "  <svg xmlns=\"http://www.w3.org/2000/svg\" height=\"24px\" viewBox=\"0 -960 960 960\">\n",
              "    <path d=\"M120-120v-720h720v720H120Zm60-500h600v-160H180v160Zm220 220h160v-160H400v160Zm0 220h160v-160H400v160ZM180-400h160v-160H180v160Zm440 0h160v-160H620v160ZM180-180h160v-160H180v160Zm440 0h160v-160H620v160Z\"/>\n",
              "  </svg>\n",
              "    </button>\n",
              "\n",
              "  <style>\n",
              "    .colab-df-container {\n",
              "      display:flex;\n",
              "      gap: 12px;\n",
              "    }\n",
              "\n",
              "    .colab-df-convert {\n",
              "      background-color: #E8F0FE;\n",
              "      border: none;\n",
              "      border-radius: 50%;\n",
              "      cursor: pointer;\n",
              "      display: none;\n",
              "      fill: #1967D2;\n",
              "      height: 32px;\n",
              "      padding: 0 0 0 0;\n",
              "      width: 32px;\n",
              "    }\n",
              "\n",
              "    .colab-df-convert:hover {\n",
              "      background-color: #E2EBFA;\n",
              "      box-shadow: 0px 1px 2px rgba(60, 64, 67, 0.3), 0px 1px 3px 1px rgba(60, 64, 67, 0.15);\n",
              "      fill: #174EA6;\n",
              "    }\n",
              "\n",
              "    .colab-df-buttons div {\n",
              "      margin-bottom: 4px;\n",
              "    }\n",
              "\n",
              "    [theme=dark] .colab-df-convert {\n",
              "      background-color: #3B4455;\n",
              "      fill: #D2E3FC;\n",
              "    }\n",
              "\n",
              "    [theme=dark] .colab-df-convert:hover {\n",
              "      background-color: #434B5C;\n",
              "      box-shadow: 0px 1px 3px 1px rgba(0, 0, 0, 0.15);\n",
              "      filter: drop-shadow(0px 1px 2px rgba(0, 0, 0, 0.3));\n",
              "      fill: #FFFFFF;\n",
              "    }\n",
              "  </style>\n",
              "\n",
              "    <script>\n",
              "      const buttonEl =\n",
              "        document.querySelector('#df-ba1c6d85-a83b-4d51-913a-81d50b9df3a7 button.colab-df-convert');\n",
              "      buttonEl.style.display =\n",
              "        google.colab.kernel.accessAllowed ? 'block' : 'none';\n",
              "\n",
              "      async function convertToInteractive(key) {\n",
              "        const element = document.querySelector('#df-ba1c6d85-a83b-4d51-913a-81d50b9df3a7');\n",
              "        const dataTable =\n",
              "          await google.colab.kernel.invokeFunction('convertToInteractive',\n",
              "                                                    [key], {});\n",
              "        if (!dataTable) return;\n",
              "\n",
              "        const docLinkHtml = 'Like what you see? Visit the ' +\n",
              "          '<a target=\"_blank\" href=https://colab.research.google.com/notebooks/data_table.ipynb>data table notebook</a>'\n",
              "          + ' to learn more about interactive tables.';\n",
              "        element.innerHTML = '';\n",
              "        dataTable['output_type'] = 'display_data';\n",
              "        await google.colab.output.renderOutput(dataTable, element);\n",
              "        const docLink = document.createElement('div');\n",
              "        docLink.innerHTML = docLinkHtml;\n",
              "        element.appendChild(docLink);\n",
              "      }\n",
              "    </script>\n",
              "  </div>\n",
              "\n",
              "\n",
              "<div id=\"df-7c3ec2ff-b0b2-4ff3-a484-a4f1722935ca\">\n",
              "  <button class=\"colab-df-quickchart\" onclick=\"quickchart('df-7c3ec2ff-b0b2-4ff3-a484-a4f1722935ca')\"\n",
              "            title=\"Suggest charts\"\n",
              "            style=\"display:none;\">\n",
              "\n",
              "<svg xmlns=\"http://www.w3.org/2000/svg\" height=\"24px\"viewBox=\"0 0 24 24\"\n",
              "     width=\"24px\">\n",
              "    <g>\n",
              "        <path d=\"M19 3H5c-1.1 0-2 .9-2 2v14c0 1.1.9 2 2 2h14c1.1 0 2-.9 2-2V5c0-1.1-.9-2-2-2zM9 17H7v-7h2v7zm4 0h-2V7h2v10zm4 0h-2v-4h2v4z\"/>\n",
              "    </g>\n",
              "</svg>\n",
              "  </button>\n",
              "\n",
              "<style>\n",
              "  .colab-df-quickchart {\n",
              "      --bg-color: #E8F0FE;\n",
              "      --fill-color: #1967D2;\n",
              "      --hover-bg-color: #E2EBFA;\n",
              "      --hover-fill-color: #174EA6;\n",
              "      --disabled-fill-color: #AAA;\n",
              "      --disabled-bg-color: #DDD;\n",
              "  }\n",
              "\n",
              "  [theme=dark] .colab-df-quickchart {\n",
              "      --bg-color: #3B4455;\n",
              "      --fill-color: #D2E3FC;\n",
              "      --hover-bg-color: #434B5C;\n",
              "      --hover-fill-color: #FFFFFF;\n",
              "      --disabled-bg-color: #3B4455;\n",
              "      --disabled-fill-color: #666;\n",
              "  }\n",
              "\n",
              "  .colab-df-quickchart {\n",
              "    background-color: var(--bg-color);\n",
              "    border: none;\n",
              "    border-radius: 50%;\n",
              "    cursor: pointer;\n",
              "    display: none;\n",
              "    fill: var(--fill-color);\n",
              "    height: 32px;\n",
              "    padding: 0;\n",
              "    width: 32px;\n",
              "  }\n",
              "\n",
              "  .colab-df-quickchart:hover {\n",
              "    background-color: var(--hover-bg-color);\n",
              "    box-shadow: 0 1px 2px rgba(60, 64, 67, 0.3), 0 1px 3px 1px rgba(60, 64, 67, 0.15);\n",
              "    fill: var(--button-hover-fill-color);\n",
              "  }\n",
              "\n",
              "  .colab-df-quickchart-complete:disabled,\n",
              "  .colab-df-quickchart-complete:disabled:hover {\n",
              "    background-color: var(--disabled-bg-color);\n",
              "    fill: var(--disabled-fill-color);\n",
              "    box-shadow: none;\n",
              "  }\n",
              "\n",
              "  .colab-df-spinner {\n",
              "    border: 2px solid var(--fill-color);\n",
              "    border-color: transparent;\n",
              "    border-bottom-color: var(--fill-color);\n",
              "    animation:\n",
              "      spin 1s steps(1) infinite;\n",
              "  }\n",
              "\n",
              "  @keyframes spin {\n",
              "    0% {\n",
              "      border-color: transparent;\n",
              "      border-bottom-color: var(--fill-color);\n",
              "      border-left-color: var(--fill-color);\n",
              "    }\n",
              "    20% {\n",
              "      border-color: transparent;\n",
              "      border-left-color: var(--fill-color);\n",
              "      border-top-color: var(--fill-color);\n",
              "    }\n",
              "    30% {\n",
              "      border-color: transparent;\n",
              "      border-left-color: var(--fill-color);\n",
              "      border-top-color: var(--fill-color);\n",
              "      border-right-color: var(--fill-color);\n",
              "    }\n",
              "    40% {\n",
              "      border-color: transparent;\n",
              "      border-right-color: var(--fill-color);\n",
              "      border-top-color: var(--fill-color);\n",
              "    }\n",
              "    60% {\n",
              "      border-color: transparent;\n",
              "      border-right-color: var(--fill-color);\n",
              "    }\n",
              "    80% {\n",
              "      border-color: transparent;\n",
              "      border-right-color: var(--fill-color);\n",
              "      border-bottom-color: var(--fill-color);\n",
              "    }\n",
              "    90% {\n",
              "      border-color: transparent;\n",
              "      border-bottom-color: var(--fill-color);\n",
              "    }\n",
              "  }\n",
              "</style>\n",
              "\n",
              "  <script>\n",
              "    async function quickchart(key) {\n",
              "      const quickchartButtonEl =\n",
              "        document.querySelector('#' + key + ' button');\n",
              "      quickchartButtonEl.disabled = true;  // To prevent multiple clicks.\n",
              "      quickchartButtonEl.classList.add('colab-df-spinner');\n",
              "      try {\n",
              "        const charts = await google.colab.kernel.invokeFunction(\n",
              "            'suggestCharts', [key], {});\n",
              "      } catch (error) {\n",
              "        console.error('Error during call to suggestCharts:', error);\n",
              "      }\n",
              "      quickchartButtonEl.classList.remove('colab-df-spinner');\n",
              "      quickchartButtonEl.classList.add('colab-df-quickchart-complete');\n",
              "    }\n",
              "    (() => {\n",
              "      let quickchartButtonEl =\n",
              "        document.querySelector('#df-7c3ec2ff-b0b2-4ff3-a484-a4f1722935ca button');\n",
              "      quickchartButtonEl.style.display =\n",
              "        google.colab.kernel.accessAllowed ? 'block' : 'none';\n",
              "    })();\n",
              "  </script>\n",
              "</div>\n",
              "    </div>\n",
              "  </div>\n"
            ]
          },
          "metadata": {},
          "execution_count": 19
        }
      ]
    },
    {
      "cell_type": "code",
      "source": [
        "df['sentiment'] = df['sentiment'].map({'negative': 0, 'positive': 1})"
      ],
      "metadata": {
        "id": "8O4UVP_R1XIt"
      },
      "execution_count": 20,
      "outputs": []
    },
    {
      "cell_type": "code",
      "source": [
        "df.head()"
      ],
      "metadata": {
        "colab": {
          "base_uri": "https://localhost:8080/",
          "height": 206
        },
        "id": "nOEmSR9w1-0D",
        "outputId": "3ce18a25-8765-46ac-d98a-8cb453aaac85"
      },
      "execution_count": 21,
      "outputs": [
        {
          "output_type": "execute_result",
          "data": {
            "text/plain": [
              "                                              review  sentiment\n",
              "0  One of the other reviewers has mentioned that ...          1\n",
              "1  A wonderful little production. <br /><br />The...          1\n",
              "2  I thought this was a wonderful way to spend ti...          1\n",
              "3  Basically there's a family where a little boy ...          0\n",
              "4  Petter Mattei's \"Love in the Time of Money\" is...          1"
            ],
            "text/html": [
              "\n",
              "  <div id=\"df-4c8779ce-418f-4295-baab-fb154b5ef967\" class=\"colab-df-container\">\n",
              "    <div>\n",
              "<style scoped>\n",
              "    .dataframe tbody tr th:only-of-type {\n",
              "        vertical-align: middle;\n",
              "    }\n",
              "\n",
              "    .dataframe tbody tr th {\n",
              "        vertical-align: top;\n",
              "    }\n",
              "\n",
              "    .dataframe thead th {\n",
              "        text-align: right;\n",
              "    }\n",
              "</style>\n",
              "<table border=\"1\" class=\"dataframe\">\n",
              "  <thead>\n",
              "    <tr style=\"text-align: right;\">\n",
              "      <th></th>\n",
              "      <th>review</th>\n",
              "      <th>sentiment</th>\n",
              "    </tr>\n",
              "  </thead>\n",
              "  <tbody>\n",
              "    <tr>\n",
              "      <th>0</th>\n",
              "      <td>One of the other reviewers has mentioned that ...</td>\n",
              "      <td>1</td>\n",
              "    </tr>\n",
              "    <tr>\n",
              "      <th>1</th>\n",
              "      <td>A wonderful little production. &lt;br /&gt;&lt;br /&gt;The...</td>\n",
              "      <td>1</td>\n",
              "    </tr>\n",
              "    <tr>\n",
              "      <th>2</th>\n",
              "      <td>I thought this was a wonderful way to spend ti...</td>\n",
              "      <td>1</td>\n",
              "    </tr>\n",
              "    <tr>\n",
              "      <th>3</th>\n",
              "      <td>Basically there's a family where a little boy ...</td>\n",
              "      <td>0</td>\n",
              "    </tr>\n",
              "    <tr>\n",
              "      <th>4</th>\n",
              "      <td>Petter Mattei's \"Love in the Time of Money\" is...</td>\n",
              "      <td>1</td>\n",
              "    </tr>\n",
              "  </tbody>\n",
              "</table>\n",
              "</div>\n",
              "    <div class=\"colab-df-buttons\">\n",
              "\n",
              "  <div class=\"colab-df-container\">\n",
              "    <button class=\"colab-df-convert\" onclick=\"convertToInteractive('df-4c8779ce-418f-4295-baab-fb154b5ef967')\"\n",
              "            title=\"Convert this dataframe to an interactive table.\"\n",
              "            style=\"display:none;\">\n",
              "\n",
              "  <svg xmlns=\"http://www.w3.org/2000/svg\" height=\"24px\" viewBox=\"0 -960 960 960\">\n",
              "    <path d=\"M120-120v-720h720v720H120Zm60-500h600v-160H180v160Zm220 220h160v-160H400v160Zm0 220h160v-160H400v160ZM180-400h160v-160H180v160Zm440 0h160v-160H620v160ZM180-180h160v-160H180v160Zm440 0h160v-160H620v160Z\"/>\n",
              "  </svg>\n",
              "    </button>\n",
              "\n",
              "  <style>\n",
              "    .colab-df-container {\n",
              "      display:flex;\n",
              "      gap: 12px;\n",
              "    }\n",
              "\n",
              "    .colab-df-convert {\n",
              "      background-color: #E8F0FE;\n",
              "      border: none;\n",
              "      border-radius: 50%;\n",
              "      cursor: pointer;\n",
              "      display: none;\n",
              "      fill: #1967D2;\n",
              "      height: 32px;\n",
              "      padding: 0 0 0 0;\n",
              "      width: 32px;\n",
              "    }\n",
              "\n",
              "    .colab-df-convert:hover {\n",
              "      background-color: #E2EBFA;\n",
              "      box-shadow: 0px 1px 2px rgba(60, 64, 67, 0.3), 0px 1px 3px 1px rgba(60, 64, 67, 0.15);\n",
              "      fill: #174EA6;\n",
              "    }\n",
              "\n",
              "    .colab-df-buttons div {\n",
              "      margin-bottom: 4px;\n",
              "    }\n",
              "\n",
              "    [theme=dark] .colab-df-convert {\n",
              "      background-color: #3B4455;\n",
              "      fill: #D2E3FC;\n",
              "    }\n",
              "\n",
              "    [theme=dark] .colab-df-convert:hover {\n",
              "      background-color: #434B5C;\n",
              "      box-shadow: 0px 1px 3px 1px rgba(0, 0, 0, 0.15);\n",
              "      filter: drop-shadow(0px 1px 2px rgba(0, 0, 0, 0.3));\n",
              "      fill: #FFFFFF;\n",
              "    }\n",
              "  </style>\n",
              "\n",
              "    <script>\n",
              "      const buttonEl =\n",
              "        document.querySelector('#df-4c8779ce-418f-4295-baab-fb154b5ef967 button.colab-df-convert');\n",
              "      buttonEl.style.display =\n",
              "        google.colab.kernel.accessAllowed ? 'block' : 'none';\n",
              "\n",
              "      async function convertToInteractive(key) {\n",
              "        const element = document.querySelector('#df-4c8779ce-418f-4295-baab-fb154b5ef967');\n",
              "        const dataTable =\n",
              "          await google.colab.kernel.invokeFunction('convertToInteractive',\n",
              "                                                    [key], {});\n",
              "        if (!dataTable) return;\n",
              "\n",
              "        const docLinkHtml = 'Like what you see? Visit the ' +\n",
              "          '<a target=\"_blank\" href=https://colab.research.google.com/notebooks/data_table.ipynb>data table notebook</a>'\n",
              "          + ' to learn more about interactive tables.';\n",
              "        element.innerHTML = '';\n",
              "        dataTable['output_type'] = 'display_data';\n",
              "        await google.colab.output.renderOutput(dataTable, element);\n",
              "        const docLink = document.createElement('div');\n",
              "        docLink.innerHTML = docLinkHtml;\n",
              "        element.appendChild(docLink);\n",
              "      }\n",
              "    </script>\n",
              "  </div>\n",
              "\n",
              "\n",
              "<div id=\"df-ae568edf-c9fa-4013-98b9-d9136db6d95e\">\n",
              "  <button class=\"colab-df-quickchart\" onclick=\"quickchart('df-ae568edf-c9fa-4013-98b9-d9136db6d95e')\"\n",
              "            title=\"Suggest charts\"\n",
              "            style=\"display:none;\">\n",
              "\n",
              "<svg xmlns=\"http://www.w3.org/2000/svg\" height=\"24px\"viewBox=\"0 0 24 24\"\n",
              "     width=\"24px\">\n",
              "    <g>\n",
              "        <path d=\"M19 3H5c-1.1 0-2 .9-2 2v14c0 1.1.9 2 2 2h14c1.1 0 2-.9 2-2V5c0-1.1-.9-2-2-2zM9 17H7v-7h2v7zm4 0h-2V7h2v10zm4 0h-2v-4h2v4z\"/>\n",
              "    </g>\n",
              "</svg>\n",
              "  </button>\n",
              "\n",
              "<style>\n",
              "  .colab-df-quickchart {\n",
              "      --bg-color: #E8F0FE;\n",
              "      --fill-color: #1967D2;\n",
              "      --hover-bg-color: #E2EBFA;\n",
              "      --hover-fill-color: #174EA6;\n",
              "      --disabled-fill-color: #AAA;\n",
              "      --disabled-bg-color: #DDD;\n",
              "  }\n",
              "\n",
              "  [theme=dark] .colab-df-quickchart {\n",
              "      --bg-color: #3B4455;\n",
              "      --fill-color: #D2E3FC;\n",
              "      --hover-bg-color: #434B5C;\n",
              "      --hover-fill-color: #FFFFFF;\n",
              "      --disabled-bg-color: #3B4455;\n",
              "      --disabled-fill-color: #666;\n",
              "  }\n",
              "\n",
              "  .colab-df-quickchart {\n",
              "    background-color: var(--bg-color);\n",
              "    border: none;\n",
              "    border-radius: 50%;\n",
              "    cursor: pointer;\n",
              "    display: none;\n",
              "    fill: var(--fill-color);\n",
              "    height: 32px;\n",
              "    padding: 0;\n",
              "    width: 32px;\n",
              "  }\n",
              "\n",
              "  .colab-df-quickchart:hover {\n",
              "    background-color: var(--hover-bg-color);\n",
              "    box-shadow: 0 1px 2px rgba(60, 64, 67, 0.3), 0 1px 3px 1px rgba(60, 64, 67, 0.15);\n",
              "    fill: var(--button-hover-fill-color);\n",
              "  }\n",
              "\n",
              "  .colab-df-quickchart-complete:disabled,\n",
              "  .colab-df-quickchart-complete:disabled:hover {\n",
              "    background-color: var(--disabled-bg-color);\n",
              "    fill: var(--disabled-fill-color);\n",
              "    box-shadow: none;\n",
              "  }\n",
              "\n",
              "  .colab-df-spinner {\n",
              "    border: 2px solid var(--fill-color);\n",
              "    border-color: transparent;\n",
              "    border-bottom-color: var(--fill-color);\n",
              "    animation:\n",
              "      spin 1s steps(1) infinite;\n",
              "  }\n",
              "\n",
              "  @keyframes spin {\n",
              "    0% {\n",
              "      border-color: transparent;\n",
              "      border-bottom-color: var(--fill-color);\n",
              "      border-left-color: var(--fill-color);\n",
              "    }\n",
              "    20% {\n",
              "      border-color: transparent;\n",
              "      border-left-color: var(--fill-color);\n",
              "      border-top-color: var(--fill-color);\n",
              "    }\n",
              "    30% {\n",
              "      border-color: transparent;\n",
              "      border-left-color: var(--fill-color);\n",
              "      border-top-color: var(--fill-color);\n",
              "      border-right-color: var(--fill-color);\n",
              "    }\n",
              "    40% {\n",
              "      border-color: transparent;\n",
              "      border-right-color: var(--fill-color);\n",
              "      border-top-color: var(--fill-color);\n",
              "    }\n",
              "    60% {\n",
              "      border-color: transparent;\n",
              "      border-right-color: var(--fill-color);\n",
              "    }\n",
              "    80% {\n",
              "      border-color: transparent;\n",
              "      border-right-color: var(--fill-color);\n",
              "      border-bottom-color: var(--fill-color);\n",
              "    }\n",
              "    90% {\n",
              "      border-color: transparent;\n",
              "      border-bottom-color: var(--fill-color);\n",
              "    }\n",
              "  }\n",
              "</style>\n",
              "\n",
              "  <script>\n",
              "    async function quickchart(key) {\n",
              "      const quickchartButtonEl =\n",
              "        document.querySelector('#' + key + ' button');\n",
              "      quickchartButtonEl.disabled = true;  // To prevent multiple clicks.\n",
              "      quickchartButtonEl.classList.add('colab-df-spinner');\n",
              "      try {\n",
              "        const charts = await google.colab.kernel.invokeFunction(\n",
              "            'suggestCharts', [key], {});\n",
              "      } catch (error) {\n",
              "        console.error('Error during call to suggestCharts:', error);\n",
              "      }\n",
              "      quickchartButtonEl.classList.remove('colab-df-spinner');\n",
              "      quickchartButtonEl.classList.add('colab-df-quickchart-complete');\n",
              "    }\n",
              "    (() => {\n",
              "      let quickchartButtonEl =\n",
              "        document.querySelector('#df-ae568edf-c9fa-4013-98b9-d9136db6d95e button');\n",
              "      quickchartButtonEl.style.display =\n",
              "        google.colab.kernel.accessAllowed ? 'block' : 'none';\n",
              "    })();\n",
              "  </script>\n",
              "</div>\n",
              "    </div>\n",
              "  </div>\n"
            ]
          },
          "metadata": {},
          "execution_count": 21
        }
      ]
    },
    {
      "cell_type": "markdown",
      "source": [
        "## Data Cleaning"
      ],
      "metadata": {
        "id": "cSWrphqWqhJS"
      }
    },
    {
      "cell_type": "code",
      "source": [
        "\n",
        "def clean_dataset(df):\n",
        "    \"\"\"\n",
        "    Clean a DataFrame containing a 'review' column.\n",
        "    Args:\n",
        "    - df: DataFrame with a 'review' column containing text data.\n",
        "    Returns:\n",
        "    - df: DataFrame with the 'review' column replaced by cleaned text.\n",
        "    \"\"\"\n",
        "    cleaned_reviews = []\n",
        "\n",
        "    for text in df['review']:\n",
        "        # Remove HTML tags\n",
        "        text = BeautifulSoup(text, 'html.parser').get_text(\" \")\n",
        "\n",
        "        # Remove non-word characters and digits\n",
        "        text = re.sub(r\"[^\\w\\s.,]\", '', text)\n",
        "        text = re.sub(r\"\\d\", '', text)\n",
        "\n",
        "        # Convert to lowercase\n",
        "        cleaned_text = text.lower()\n",
        "\n",
        "        cleaned_reviews.append(cleaned_text)\n",
        "\n",
        "    df['review'] = cleaned_reviews\n",
        "    return df\n",
        "\n",
        "\n",
        "cleaned_data = clean_dataset(df)\n"
      ],
      "metadata": {
        "id": "J5m4eq_pxwgb",
        "colab": {
          "base_uri": "https://localhost:8080/"
        },
        "outputId": "6ac62fbf-da9f-4e13-dfae-ab9ececaf4d9"
      },
      "execution_count": 22,
      "outputs": [
        {
          "output_type": "stream",
          "name": "stderr",
          "text": [
            "<ipython-input-22-3241355139a5>:13: MarkupResemblesLocatorWarning: The input looks more like a filename than markup. You may want to open this file and pass the filehandle into Beautiful Soup.\n",
            "  text = BeautifulSoup(text, 'html.parser').get_text(\" \")\n"
          ]
        }
      ]
    },
    {
      "cell_type": "code",
      "source": [
        "cleaned_data.head()"
      ],
      "metadata": {
        "colab": {
          "base_uri": "https://localhost:8080/",
          "height": 206
        },
        "id": "Vq5wMqv2rJUq",
        "outputId": "435e7228-a39c-4107-f271-f13541169e7e"
      },
      "execution_count": 23,
      "outputs": [
        {
          "output_type": "execute_result",
          "data": {
            "text/plain": [
              "                                              review  sentiment\n",
              "0  one of the other reviewers has mentioned that ...          1\n",
              "1  a wonderful little production.  the filming te...          1\n",
              "2  i thought this was a wonderful way to spend ti...          1\n",
              "3  basically theres a family where a little boy j...          0\n",
              "4  petter matteis love in the time of money is a ...          1"
            ],
            "text/html": [
              "\n",
              "  <div id=\"df-53c49afe-bd48-4397-813d-888733058738\" class=\"colab-df-container\">\n",
              "    <div>\n",
              "<style scoped>\n",
              "    .dataframe tbody tr th:only-of-type {\n",
              "        vertical-align: middle;\n",
              "    }\n",
              "\n",
              "    .dataframe tbody tr th {\n",
              "        vertical-align: top;\n",
              "    }\n",
              "\n",
              "    .dataframe thead th {\n",
              "        text-align: right;\n",
              "    }\n",
              "</style>\n",
              "<table border=\"1\" class=\"dataframe\">\n",
              "  <thead>\n",
              "    <tr style=\"text-align: right;\">\n",
              "      <th></th>\n",
              "      <th>review</th>\n",
              "      <th>sentiment</th>\n",
              "    </tr>\n",
              "  </thead>\n",
              "  <tbody>\n",
              "    <tr>\n",
              "      <th>0</th>\n",
              "      <td>one of the other reviewers has mentioned that ...</td>\n",
              "      <td>1</td>\n",
              "    </tr>\n",
              "    <tr>\n",
              "      <th>1</th>\n",
              "      <td>a wonderful little production.  the filming te...</td>\n",
              "      <td>1</td>\n",
              "    </tr>\n",
              "    <tr>\n",
              "      <th>2</th>\n",
              "      <td>i thought this was a wonderful way to spend ti...</td>\n",
              "      <td>1</td>\n",
              "    </tr>\n",
              "    <tr>\n",
              "      <th>3</th>\n",
              "      <td>basically theres a family where a little boy j...</td>\n",
              "      <td>0</td>\n",
              "    </tr>\n",
              "    <tr>\n",
              "      <th>4</th>\n",
              "      <td>petter matteis love in the time of money is a ...</td>\n",
              "      <td>1</td>\n",
              "    </tr>\n",
              "  </tbody>\n",
              "</table>\n",
              "</div>\n",
              "    <div class=\"colab-df-buttons\">\n",
              "\n",
              "  <div class=\"colab-df-container\">\n",
              "    <button class=\"colab-df-convert\" onclick=\"convertToInteractive('df-53c49afe-bd48-4397-813d-888733058738')\"\n",
              "            title=\"Convert this dataframe to an interactive table.\"\n",
              "            style=\"display:none;\">\n",
              "\n",
              "  <svg xmlns=\"http://www.w3.org/2000/svg\" height=\"24px\" viewBox=\"0 -960 960 960\">\n",
              "    <path d=\"M120-120v-720h720v720H120Zm60-500h600v-160H180v160Zm220 220h160v-160H400v160Zm0 220h160v-160H400v160ZM180-400h160v-160H180v160Zm440 0h160v-160H620v160ZM180-180h160v-160H180v160Zm440 0h160v-160H620v160Z\"/>\n",
              "  </svg>\n",
              "    </button>\n",
              "\n",
              "  <style>\n",
              "    .colab-df-container {\n",
              "      display:flex;\n",
              "      gap: 12px;\n",
              "    }\n",
              "\n",
              "    .colab-df-convert {\n",
              "      background-color: #E8F0FE;\n",
              "      border: none;\n",
              "      border-radius: 50%;\n",
              "      cursor: pointer;\n",
              "      display: none;\n",
              "      fill: #1967D2;\n",
              "      height: 32px;\n",
              "      padding: 0 0 0 0;\n",
              "      width: 32px;\n",
              "    }\n",
              "\n",
              "    .colab-df-convert:hover {\n",
              "      background-color: #E2EBFA;\n",
              "      box-shadow: 0px 1px 2px rgba(60, 64, 67, 0.3), 0px 1px 3px 1px rgba(60, 64, 67, 0.15);\n",
              "      fill: #174EA6;\n",
              "    }\n",
              "\n",
              "    .colab-df-buttons div {\n",
              "      margin-bottom: 4px;\n",
              "    }\n",
              "\n",
              "    [theme=dark] .colab-df-convert {\n",
              "      background-color: #3B4455;\n",
              "      fill: #D2E3FC;\n",
              "    }\n",
              "\n",
              "    [theme=dark] .colab-df-convert:hover {\n",
              "      background-color: #434B5C;\n",
              "      box-shadow: 0px 1px 3px 1px rgba(0, 0, 0, 0.15);\n",
              "      filter: drop-shadow(0px 1px 2px rgba(0, 0, 0, 0.3));\n",
              "      fill: #FFFFFF;\n",
              "    }\n",
              "  </style>\n",
              "\n",
              "    <script>\n",
              "      const buttonEl =\n",
              "        document.querySelector('#df-53c49afe-bd48-4397-813d-888733058738 button.colab-df-convert');\n",
              "      buttonEl.style.display =\n",
              "        google.colab.kernel.accessAllowed ? 'block' : 'none';\n",
              "\n",
              "      async function convertToInteractive(key) {\n",
              "        const element = document.querySelector('#df-53c49afe-bd48-4397-813d-888733058738');\n",
              "        const dataTable =\n",
              "          await google.colab.kernel.invokeFunction('convertToInteractive',\n",
              "                                                    [key], {});\n",
              "        if (!dataTable) return;\n",
              "\n",
              "        const docLinkHtml = 'Like what you see? Visit the ' +\n",
              "          '<a target=\"_blank\" href=https://colab.research.google.com/notebooks/data_table.ipynb>data table notebook</a>'\n",
              "          + ' to learn more about interactive tables.';\n",
              "        element.innerHTML = '';\n",
              "        dataTable['output_type'] = 'display_data';\n",
              "        await google.colab.output.renderOutput(dataTable, element);\n",
              "        const docLink = document.createElement('div');\n",
              "        docLink.innerHTML = docLinkHtml;\n",
              "        element.appendChild(docLink);\n",
              "      }\n",
              "    </script>\n",
              "  </div>\n",
              "\n",
              "\n",
              "<div id=\"df-f8f4bf70-138e-4cc8-9bcf-dfd4e07e80ad\">\n",
              "  <button class=\"colab-df-quickchart\" onclick=\"quickchart('df-f8f4bf70-138e-4cc8-9bcf-dfd4e07e80ad')\"\n",
              "            title=\"Suggest charts\"\n",
              "            style=\"display:none;\">\n",
              "\n",
              "<svg xmlns=\"http://www.w3.org/2000/svg\" height=\"24px\"viewBox=\"0 0 24 24\"\n",
              "     width=\"24px\">\n",
              "    <g>\n",
              "        <path d=\"M19 3H5c-1.1 0-2 .9-2 2v14c0 1.1.9 2 2 2h14c1.1 0 2-.9 2-2V5c0-1.1-.9-2-2-2zM9 17H7v-7h2v7zm4 0h-2V7h2v10zm4 0h-2v-4h2v4z\"/>\n",
              "    </g>\n",
              "</svg>\n",
              "  </button>\n",
              "\n",
              "<style>\n",
              "  .colab-df-quickchart {\n",
              "      --bg-color: #E8F0FE;\n",
              "      --fill-color: #1967D2;\n",
              "      --hover-bg-color: #E2EBFA;\n",
              "      --hover-fill-color: #174EA6;\n",
              "      --disabled-fill-color: #AAA;\n",
              "      --disabled-bg-color: #DDD;\n",
              "  }\n",
              "\n",
              "  [theme=dark] .colab-df-quickchart {\n",
              "      --bg-color: #3B4455;\n",
              "      --fill-color: #D2E3FC;\n",
              "      --hover-bg-color: #434B5C;\n",
              "      --hover-fill-color: #FFFFFF;\n",
              "      --disabled-bg-color: #3B4455;\n",
              "      --disabled-fill-color: #666;\n",
              "  }\n",
              "\n",
              "  .colab-df-quickchart {\n",
              "    background-color: var(--bg-color);\n",
              "    border: none;\n",
              "    border-radius: 50%;\n",
              "    cursor: pointer;\n",
              "    display: none;\n",
              "    fill: var(--fill-color);\n",
              "    height: 32px;\n",
              "    padding: 0;\n",
              "    width: 32px;\n",
              "  }\n",
              "\n",
              "  .colab-df-quickchart:hover {\n",
              "    background-color: var(--hover-bg-color);\n",
              "    box-shadow: 0 1px 2px rgba(60, 64, 67, 0.3), 0 1px 3px 1px rgba(60, 64, 67, 0.15);\n",
              "    fill: var(--button-hover-fill-color);\n",
              "  }\n",
              "\n",
              "  .colab-df-quickchart-complete:disabled,\n",
              "  .colab-df-quickchart-complete:disabled:hover {\n",
              "    background-color: var(--disabled-bg-color);\n",
              "    fill: var(--disabled-fill-color);\n",
              "    box-shadow: none;\n",
              "  }\n",
              "\n",
              "  .colab-df-spinner {\n",
              "    border: 2px solid var(--fill-color);\n",
              "    border-color: transparent;\n",
              "    border-bottom-color: var(--fill-color);\n",
              "    animation:\n",
              "      spin 1s steps(1) infinite;\n",
              "  }\n",
              "\n",
              "  @keyframes spin {\n",
              "    0% {\n",
              "      border-color: transparent;\n",
              "      border-bottom-color: var(--fill-color);\n",
              "      border-left-color: var(--fill-color);\n",
              "    }\n",
              "    20% {\n",
              "      border-color: transparent;\n",
              "      border-left-color: var(--fill-color);\n",
              "      border-top-color: var(--fill-color);\n",
              "    }\n",
              "    30% {\n",
              "      border-color: transparent;\n",
              "      border-left-color: var(--fill-color);\n",
              "      border-top-color: var(--fill-color);\n",
              "      border-right-color: var(--fill-color);\n",
              "    }\n",
              "    40% {\n",
              "      border-color: transparent;\n",
              "      border-right-color: var(--fill-color);\n",
              "      border-top-color: var(--fill-color);\n",
              "    }\n",
              "    60% {\n",
              "      border-color: transparent;\n",
              "      border-right-color: var(--fill-color);\n",
              "    }\n",
              "    80% {\n",
              "      border-color: transparent;\n",
              "      border-right-color: var(--fill-color);\n",
              "      border-bottom-color: var(--fill-color);\n",
              "    }\n",
              "    90% {\n",
              "      border-color: transparent;\n",
              "      border-bottom-color: var(--fill-color);\n",
              "    }\n",
              "  }\n",
              "</style>\n",
              "\n",
              "  <script>\n",
              "    async function quickchart(key) {\n",
              "      const quickchartButtonEl =\n",
              "        document.querySelector('#' + key + ' button');\n",
              "      quickchartButtonEl.disabled = true;  // To prevent multiple clicks.\n",
              "      quickchartButtonEl.classList.add('colab-df-spinner');\n",
              "      try {\n",
              "        const charts = await google.colab.kernel.invokeFunction(\n",
              "            'suggestCharts', [key], {});\n",
              "      } catch (error) {\n",
              "        console.error('Error during call to suggestCharts:', error);\n",
              "      }\n",
              "      quickchartButtonEl.classList.remove('colab-df-spinner');\n",
              "      quickchartButtonEl.classList.add('colab-df-quickchart-complete');\n",
              "    }\n",
              "    (() => {\n",
              "      let quickchartButtonEl =\n",
              "        document.querySelector('#df-f8f4bf70-138e-4cc8-9bcf-dfd4e07e80ad button');\n",
              "      quickchartButtonEl.style.display =\n",
              "        google.colab.kernel.accessAllowed ? 'block' : 'none';\n",
              "    })();\n",
              "  </script>\n",
              "</div>\n",
              "    </div>\n",
              "  </div>\n"
            ]
          },
          "metadata": {},
          "execution_count": 23
        }
      ]
    },
    {
      "cell_type": "code",
      "source": [],
      "metadata": {
        "id": "5egUwLJ1rJaO"
      },
      "execution_count": 23,
      "outputs": []
    },
    {
      "cell_type": "markdown",
      "source": [
        "## Data Preprocessing"
      ],
      "metadata": {
        "id": "hw2rk3xFq4IE"
      }
    },
    {
      "cell_type": "code",
      "source": [
        "X,y = cleaned_data['review'].values,cleaned_data['sentiment'].values\n",
        "x_train,x_test,y_train,y_test = train_test_split(X,y,random_state=42,stratify=y)\n",
        "print(f'shape of train data is {x_train.shape}')"
      ],
      "metadata": {
        "colab": {
          "base_uri": "https://localhost:8080/"
        },
        "id": "9vId5MPulgER",
        "outputId": "0ad92a3a-e89e-4563-f38b-a7028d5edd14"
      },
      "execution_count": 24,
      "outputs": [
        {
          "output_type": "stream",
          "name": "stdout",
          "text": [
            "shape of train data is (37500,)\n"
          ]
        }
      ]
    },
    {
      "cell_type": "code",
      "source": [
        "x_test,x_val,y_test,y_val = train_test_split(x_test,y_test,train_size=0.5,random_state=42,stratify=y_test)\n",
        "print(f'shape of validation data is {x_val.shape}')\n",
        "print(f'shape of test data is {x_test.shape}')"
      ],
      "metadata": {
        "colab": {
          "base_uri": "https://localhost:8080/"
        },
        "id": "u9gn4wA3j-WL",
        "outputId": "7d1c5f5c-7bdf-453d-bebf-946116328090"
      },
      "execution_count": 25,
      "outputs": [
        {
          "output_type": "stream",
          "name": "stdout",
          "text": [
            "shape of validation data is (6250,)\n",
            "shape of test data is (6250,)\n"
          ]
        }
      ]
    },
    {
      "cell_type": "code",
      "source": [
        "class CustomDataset(Dataset):\n",
        "    def __init__(self, reviews, sentiments, word2idx, max_seq_length=500,tokenizer = None):\n",
        "        self.reviews = reviews\n",
        "        self.sentiments = sentiments\n",
        "        self.word2idx = word2idx\n",
        "        self.max_seq_length = max_seq_length\n",
        "        self.tokenizer = tokenizer\n",
        "\n",
        "    def __len__(self):\n",
        "        return len(self.reviews)\n",
        "\n",
        "    def __getitem__(self, index):\n",
        "        review = self.reviews[index]\n",
        "        label = self.sentiments[index]\n",
        "\n",
        "        # Tokenize and convert words to indices\n",
        "        tokens = self.tokenizer(review)\n",
        "        indices = [self.word2idx.get(token, 0) for token in tokens][:self.max_seq_length]\n",
        "\n",
        "        # Pad or truncate to a fixed sequence length\n",
        "        pad_length = self.max_seq_length - len(indices)\n",
        "        indices += [0] * pad_length  # 0 is used for padding\n",
        "\n",
        "        # Convert indices to integers\n",
        "        indices = [int(idx) for idx in indices]\n",
        "\n",
        "        # One hot encoding\n",
        "        one_hot_label = F.one_hot(torch.tensor(label), num_classes=2)\n",
        "\n",
        "        return torch.tensor(indices), one_hot_label.float()\n"
      ],
      "metadata": {
        "id": "hzQ_0AmakDe-"
      },
      "execution_count": 26,
      "outputs": []
    },
    {
      "cell_type": "code",
      "source": [
        "tokenizer = get_tokenizer('basic_english')"
      ],
      "metadata": {
        "id": "uTk8RwKRWFBh"
      },
      "execution_count": 27,
      "outputs": []
    },
    {
      "cell_type": "code",
      "source": [
        "# DataLoader for training data\n",
        "train_dataset = CustomDataset(x_train, y_train, word2idx, max_seq_length=500, tokenizer=tokenizer)\n",
        "train_loader = DataLoader(train_dataset, batch_size=32, shuffle=True)\n",
        "\n",
        "# DataLoader for validation data\n",
        "val_dataset = CustomDataset(x_val, y_val, word2idx, max_seq_length=500, tokenizer=tokenizer)\n",
        "val_loader = DataLoader(val_dataset, batch_size=16, shuffle=True)\n",
        "\n",
        "# DataLoader for testing data\n",
        "test_dataset = CustomDataset(x_test, y_test, word2idx, max_seq_length=500, tokenizer=tokenizer)\n",
        "test_loader = DataLoader(test_dataset)\n"
      ],
      "metadata": {
        "id": "Erp9vhFMZ4Uw"
      },
      "execution_count": 28,
      "outputs": []
    },
    {
      "cell_type": "code",
      "source": [
        "# Just to see the training tensors\n",
        "for batch_idx, (inputs, labels) in enumerate(train_loader):\n",
        "    # Print or display a portion of the content\n",
        "    print(f\"Batch {batch_idx + 1} - Input shape: {inputs.shape}, Label shape: {labels.shape}\")\n",
        "\n",
        "    # Print the first few samples in the batch\n",
        "    for i in range(min(2, inputs.size(0))):  # Displaying the first 2 samples in each batch\n",
        "        print(f\"  Input {i + 1}: {inputs[i]}, Label: {labels[i]}\")\n",
        "\n",
        "    # Stop after a few batches for demonstration purposes\n",
        "    if batch_idx == 2:\n",
        "        break\n",
        ""
      ],
      "metadata": {
        "colab": {
          "base_uri": "https://localhost:8080/"
        },
        "id": "Z-3wjzxTdswN",
        "outputId": "9252a872-a002-4131-a81f-13a674eeed46"
      },
      "execution_count": 29,
      "outputs": [
        {
          "output_type": "stream",
          "name": "stdout",
          "text": [
            "Batch 1 - Input shape: torch.Size([32, 500]), Label shape: torch.Size([32, 2])\n",
            "  Input 1: tensor([   51,  2187,     2,  1941,     6,    39,  1007,     7,  2662,     2,\n",
            "         2197,  3691,     3,    43,   849,    14,    43,    56,  1681,   194,\n",
            "         1707,  1105,  1091,     6,   205,    43,   806,     2,   321,    17,\n",
            "         4347,     3,    38,    93,     8,     2,  5099,  4284,     3,     2,\n",
            "         1651,     3,   405,  1656,     3,  2052,     3,     7,  8046,     3,\n",
            "           36,     8,  2222,   533,     2,   525,     5,  1971,  1148,     7,\n",
            "            2,   588,    20,  4098,   133,   216,     5, 14038,     7, 10002,\n",
            "           12,  8255,     8,  1535,     2,   181,    20,  1351,     7,  1524,\n",
            "            6,    32,    28,  2820,     4,    43,   915,   193,  4782,     3,\n",
            "         2749,     3,     6,    35,    42,     9,   359,   155,     8,  2823,\n",
            "            2,   525,     5,    39,  5285,   302,     4,    43,  7548,  1404,\n",
            "            6,   255,    39,    63,     2,  1541,  6159,  1005,     3,    86,\n",
            "         1122,   104,  1215,  2820,    20,    48,    69,   109,    32,  3528,\n",
            "            3,    39,    93, 97677,    50,    19,    58,  5219,     6,   684,\n",
            "            2,   216,    14,    55,   191,    19,  1448,  2898,     5,   837,\n",
            "            7, 14123,    21,     2, 21797,  3325,    97,     6,    90,     4,\n",
            "            0,     0,     0,     0,     0,     0,     0,     0,     0,     0,\n",
            "            0,     0,     0,     0,     0,     0,     0,     0,     0,     0,\n",
            "            0,     0,     0,     0,     0,     0,     0,     0,     0,     0,\n",
            "            0,     0,     0,     0,     0,     0,     0,     0,     0,     0,\n",
            "            0,     0,     0,     0,     0,     0,     0,     0,     0,     0,\n",
            "            0,     0,     0,     0,     0,     0,     0,     0,     0,     0,\n",
            "            0,     0,     0,     0,     0,     0,     0,     0,     0,     0,\n",
            "            0,     0,     0,     0,     0,     0,     0,     0,     0,     0,\n",
            "            0,     0,     0,     0,     0,     0,     0,     0,     0,     0,\n",
            "            0,     0,     0,     0,     0,     0,     0,     0,     0,     0,\n",
            "            0,     0,     0,     0,     0,     0,     0,     0,     0,     0,\n",
            "            0,     0,     0,     0,     0,     0,     0,     0,     0,     0,\n",
            "            0,     0,     0,     0,     0,     0,     0,     0,     0,     0,\n",
            "            0,     0,     0,     0,     0,     0,     0,     0,     0,     0,\n",
            "            0,     0,     0,     0,     0,     0,     0,     0,     0,     0,\n",
            "            0,     0,     0,     0,     0,     0,     0,     0,     0,     0,\n",
            "            0,     0,     0,     0,     0,     0,     0,     0,     0,     0,\n",
            "            0,     0,     0,     0,     0,     0,     0,     0,     0,     0,\n",
            "            0,     0,     0,     0,     0,     0,     0,     0,     0,     0,\n",
            "            0,     0,     0,     0,     0,     0,     0,     0,     0,     0,\n",
            "            0,     0,     0,     0,     0,     0,     0,     0,     0,     0,\n",
            "            0,     0,     0,     0,     0,     0,     0,     0,     0,     0,\n",
            "            0,     0,     0,     0,     0,     0,     0,     0,     0,     0,\n",
            "            0,     0,     0,     0,     0,     0,     0,     0,     0,     0,\n",
            "            0,     0,     0,     0,     0,     0,     0,     0,     0,     0,\n",
            "            0,     0,     0,     0,     0,     0,     0,     0,     0,     0,\n",
            "            0,     0,     0,     0,     0,     0,     0,     0,     0,     0,\n",
            "            0,     0,     0,     0,     0,     0,     0,     0,     0,     0,\n",
            "            0,     0,     0,     0,     0,     0,     0,     0,     0,     0,\n",
            "            0,     0,     0,     0,     0,     0,     0,     0,     0,     0,\n",
            "            0,     0,     0,     0,     0,     0,     0,     0,     0,     0,\n",
            "            0,     0,     0,     0,     0,     0,     0,     0,     0,     0,\n",
            "            0,     0,     0,     0,     0,     0,     0,     0,     0,     0,\n",
            "            0,     0,     0,     0,     0,     0,     0,     0,     0,     0]), Label: tensor([0., 1.])\n",
            "  Input 2: tensor([   245,     15,      2,   1448,    525,      5,     57,    463,    829,\n",
            "            40,    921,    123,   6844,      6,      2,   1334,    356,      8,\n",
            "             2,   4240,      5,      2,   1868,    138,      3,  14371,      7,\n",
            "             2,  48148,   1027,      6,     32,    152,  52524,      7,   9695,\n",
            "             3,      7,   3686,     62,   2333,    638,      8,    152,   4632,\n",
            "             4,     49,    442,   2864,  76592,     75,     40,  12541,      4,\n",
            "          7844,  19247,   1571,     21,   3259,  27957,      3,      9,    159,\n",
            "         77597,     40,      3,  22641,     23,  14245,      7,      2, 368604,\n",
            "          2898,    206,    105,      3,     16,    967,      2,   1799,   1858,\n",
            "             6,     32,   3058,     23,      9,    130,    799,   5030,   8329,\n",
            "            12,      2,   3308,      4,   5515,   7232,   1383,     28,      0,\n",
            "         12140,      3,  92744,   1130,      3,     40,    909,    672,      0,\n",
            "         13250,      3,   7005,   1781,   4245,      6,      2,   1334,   1849,\n",
            "             8,    858,    117,      4,     31,  27015,      0,   1656,      3,\n",
            "          1494,      5,   7825,     48,   3921,  15322,     12,   1546,      3,\n",
            "             7,   4233,      5,   3470,      5,   2286,    883,   3402,      8,\n",
            "          3321,     66,   6584,      6, 144273,    104,     96,     35,      9,\n",
            "          8265,      0,   8967,      4,     49,    590, 111572,   1007,    506,\n",
            "             2,    128,  13705,     28,   1397,   1668,      6,   1079,   1132,\n",
            "            19,      2,   4422,    112,  19247,   1383,     19,     28,   6660,\n",
            "         14371,      4,  19247,   2148,    119,     41,  15206,    105,     62,\n",
            "           176,    601,    108,     41,    177,    610,      4,     19,   7232,\n",
            "             3,     49,      9, 107720,    403,     83,    171,      9,   6522,\n",
            "           885,     48,     31,      0,     50,      4,    189,      3,     49,\n",
            "             9,   1596,      5,    152,      3,     36,     58,      2,   3169,\n",
            "             3,    860,      8,      2,    128,    345,     63,   1130,  14521,\n",
            "            27,   8842,      6,   7373,      4,     20, 117297,      4,     20,\n",
            "        107424,      4,     20,   8479,    469,   1849,    937,      4,     20,\n",
            "          1668,  29148,     19,   1601,   1147,      4,     20,  50246,     24,\n",
            "           672,      8,      9,   6463,      3,      9,    367, 128952,     20,\n",
            "           392,     35,     53,   4800,     12,      9,  22594,      4,     43,\n",
            "         46770,    348,     40,    194,   1097,     34,   5719,     20,  14531,\n",
            "            68,      4,     49,  24435,      6,    122,   1718,    105,      4,\n",
            "          7232,   1350,      6,     35,  12680,   1130,   3781,     15,  20076,\n",
            "        261753, 244603,  34256,     27,   4645,  10728,      3,   1338,     19,\n",
            "         11015,  19953,    333,  11520,      7,   4192,   2092,   7816,      4,\n",
            "           281,  26332,   1683,     39,    321,     21,    145,     21,   4645,\n",
            "         10728,      3,     36,     20,   1350,      6,     35,     42,    172,\n",
            "          9655,    321,      8,   1678,      3,      2,   3484,      3,   4560,\n",
            "            62,   1502,     51,   1502,      5,  27957,      7,   1130,  54920,\n",
            "             3,    597,      6,   2101,    199,      6,    684,     46,    975,\n",
            "             8,     46,  23824,   9475,      4,    319,    980,     86,     50,\n",
            "          1563,  13660,      4,     27,      2,    877,   2318,      3,    174,\n",
            "          5576,      5,    142,   1945,  49770,     19,  27957,      7,     28,\n",
            "          2634,      3,  14371,    909,    708,     22,     16,      9,   1445,\n",
            "          1007,      3,    415,      2,   1445,   1005,     16,    374,     27,\n",
            "           708,      3,    967,    115,      2,   2155,    334,    328,     77,\n",
            "          1256,      4,     16,  27957,   2839,      6,     32,     31,  53474,\n",
            "            48,     16,     20,    122,      9,  23186,  19247,      7,  26332,\n",
            "         46770,   1916,      6,    348,      3,     44,    909,     22,   4372,\n",
            "            12,     97,      4,   1051,      3,   2828,      6,   2619,     79,\n",
            "         17497,      3,    119,  27957,   8138,   1817,     27,      2,    222,\n",
            "          1781,    523,  10813,    113,     20,    852,     48,   1130,    699,\n",
            "           292,     19,      2,   4422,      3,     34,   8364,     23,   3108,\n",
            "          1712,      6,   3470,      5,      2,   2571,     19,     46,    917,\n",
            "             7,   1097,      4,     49,      2]), Label: tensor([1., 0.])\n",
            "Batch 2 - Input shape: torch.Size([32, 500]), Label shape: torch.Size([32, 2])\n",
            "  Input 1: tensor([   39,    16,  2592,    50,     5,     2,  1609,  2461,    43,    35,\n",
            "           42,     2, 20257,     5,  2643,     8,   194,  1454,   216,     4,\n",
            "            2,  2221,    16, 10437,     7,     2,  2155,    34, 10232,    71,\n",
            "            4,    43,  3138,    39,   321,    19,  1097,     7,    55,    66,\n",
            "          739,     6,   892,    22,   140,   601,   108,     2,   158,     4,\n",
            "         2665,     0,  1397,    16,   122,  5407,  8981,    36,    38,  5468,\n",
            "           24,    66,     4,    22,    16,     9,  4286,   740,    31,  2020,\n",
            "            5,    28,  3495,    56,    32,   793,     8,   127, 78229,     4,\n",
            "         4327, 52640,   262,     9,  1697,  4541,   445,  6385,   985,     6,\n",
            "        11355,     2,   193,  1868,     7, 65934,  1634,   412,    40,    33,\n",
            "           66,     2, 32242,  9570,     5,     9, 26812,  3438,     4,  3377,\n",
            "            8,     9, 23436,     7, 22401, 37389,     7,     9, 31090, 39206,\n",
            "         8602, 29201,     3,     7,    83,   158,    62,    19,     9,  3633,\n",
            "            5,   601,     8,   194,   307,     4,  1568,    39,   321,    24,\n",
            "           66,  1140,     0,     0,     0,     0,     0,     0,     0,     0,\n",
            "            0,     0,     0,     0,     0,     0,     0,     0,     0,     0,\n",
            "            0,     0,     0,     0,     0,     0,     0,     0,     0,     0,\n",
            "            0,     0,     0,     0,     0,     0,     0,     0,     0,     0,\n",
            "            0,     0,     0,     0,     0,     0,     0,     0,     0,     0,\n",
            "            0,     0,     0,     0,     0,     0,     0,     0,     0,     0,\n",
            "            0,     0,     0,     0,     0,     0,     0,     0,     0,     0,\n",
            "            0,     0,     0,     0,     0,     0,     0,     0,     0,     0,\n",
            "            0,     0,     0,     0,     0,     0,     0,     0,     0,     0,\n",
            "            0,     0,     0,     0,     0,     0,     0,     0,     0,     0,\n",
            "            0,     0,     0,     0,     0,     0,     0,     0,     0,     0,\n",
            "            0,     0,     0,     0,     0,     0,     0,     0,     0,     0,\n",
            "            0,     0,     0,     0,     0,     0,     0,     0,     0,     0,\n",
            "            0,     0,     0,     0,     0,     0,     0,     0,     0,     0,\n",
            "            0,     0,     0,     0,     0,     0,     0,     0,     0,     0,\n",
            "            0,     0,     0,     0,     0,     0,     0,     0,     0,     0,\n",
            "            0,     0,     0,     0,     0,     0,     0,     0,     0,     0,\n",
            "            0,     0,     0,     0,     0,     0,     0,     0,     0,     0,\n",
            "            0,     0,     0,     0,     0,     0,     0,     0,     0,     0,\n",
            "            0,     0,     0,     0,     0,     0,     0,     0,     0,     0,\n",
            "            0,     0,     0,     0,     0,     0,     0,     0,     0,     0,\n",
            "            0,     0,     0,     0,     0,     0,     0,     0,     0,     0,\n",
            "            0,     0,     0,     0,     0,     0,     0,     0,     0,     0,\n",
            "            0,     0,     0,     0,     0,     0,     0,     0,     0,     0,\n",
            "            0,     0,     0,     0,     0,     0,     0,     0,     0,     0,\n",
            "            0,     0,     0,     0,     0,     0,     0,     0,     0,     0,\n",
            "            0,     0,     0,     0,     0,     0,     0,     0,     0,     0,\n",
            "            0,     0,     0,     0,     0,     0,     0,     0,     0,     0,\n",
            "            0,     0,     0,     0,     0,     0,     0,     0,     0,     0,\n",
            "            0,     0,     0,     0,     0,     0,     0,     0,     0,     0,\n",
            "            0,     0,     0,     0,     0,     0,     0,     0,     0,     0,\n",
            "            0,     0,     0,     0,     0,     0,     0,     0,     0,     0,\n",
            "            0,     0,     0,     0,     0,     0,     0,     0,     0,     0,\n",
            "            0,     0,     0,     0,     0,     0,     0,     0,     0,     0,\n",
            "            0,     0,     0,     0,     0,     0,     0,     0,     0,     0,\n",
            "            0,     0,     0,     0,     0,     0,     0,     0,     0,     0]), Label: tensor([1., 0.])\n",
            "  Input 2: tensor([    39,   5117,      7,  21170,    321,     16,     61,      9,   4169,\n",
            "           730,   3036,     14,     16,    690,     77,    865,     19,      9,\n",
            "          3643,      5,   2432,      4,     22,  40622,     12,      9,    112,\n",
            "           129,   9054,   2826,      3,   2007,   3445,      8,      9,   2063,\n",
            "             3,  24440,      9,  11218,  19146,  10990,      4,    119,    111,\n",
            "          1590,      5,     39,   1556,      3,    366,  30388,      3,   1412,\n",
            "         14975,   7975, 373224,     15,    137,      6,   1536,  11889,    405,\n",
            "           108,    136,    258,      4,   2127,      5,      2,   6061,      3,\n",
            "           214,      3,     34,    153,  18576,   8789,      3,     21,     55,\n",
            "         46770,    590,    255,   1098,      4,     50,    875,     55,     90,\n",
            "           255,      3,    214,      3,     16,     14,     50,      5,      2,\n",
            "          7975,   1660,      6,     32,     61,     84,    169,      7,    886,\n",
            "             9,   1691,  33015,  10819,  27511,      4,     12,      9,  10990,\n",
            "          2049,      6,    163,      3,     22,    590,     33,      6,    945,\n",
            "            49,   7521,      6,      2,  12516,   5007,      4,      8,     39,\n",
            "           321,      3,    214,      3,     55,     93,    171,      2,  87579,\n",
            "         26440,      5,      2,   7521,      4,     22,   1350,      6,   2600,\n",
            "             5,  11047,      2,   8336,     27,   9249,   7521,      4,     36,\n",
            "         14665,     38,   1087,     21,      2,   6803,     17,    102,   2239,\n",
            "            43,   1483, 199094,    161,     68,    104,      2,   5615,     17,\n",
            "           224,     15,      9,    532,      5,      2,     81,      4,    378,\n",
            "             3,    194,  14031,   2520,     17,     14,     43,    967, 173834,\n",
            "          1512,    193,    183,      4,      0,      0,      0,      0,      0,\n",
            "             0,      0,      0,      0,      0,      0,      0,      0,      0,\n",
            "             0,      0,      0,      0,      0,      0,      0,      0,      0,\n",
            "             0,      0,      0,      0,      0,      0,      0,      0,      0,\n",
            "             0,      0,      0,      0,      0,      0,      0,      0,      0,\n",
            "             0,      0,      0,      0,      0,      0,      0,      0,      0,\n",
            "             0,      0,      0,      0,      0,      0,      0,      0,      0,\n",
            "             0,      0,      0,      0,      0,      0,      0,      0,      0,\n",
            "             0,      0,      0,      0,      0,      0,      0,      0,      0,\n",
            "             0,      0,      0,      0,      0,      0,      0,      0,      0,\n",
            "             0,      0,      0,      0,      0,      0,      0,      0,      0,\n",
            "             0,      0,      0,      0,      0,      0,      0,      0,      0,\n",
            "             0,      0,      0,      0,      0,      0,      0,      0,      0,\n",
            "             0,      0,      0,      0,      0,      0,      0,      0,      0,\n",
            "             0,      0,      0,      0,      0,      0,      0,      0,      0,\n",
            "             0,      0,      0,      0,      0,      0,      0,      0,      0,\n",
            "             0,      0,      0,      0,      0,      0,      0,      0,      0,\n",
            "             0,      0,      0,      0,      0,      0,      0,      0,      0,\n",
            "             0,      0,      0,      0,      0,      0,      0,      0,      0,\n",
            "             0,      0,      0,      0,      0,      0,      0,      0,      0,\n",
            "             0,      0,      0,      0,      0,      0,      0,      0,      0,\n",
            "             0,      0,      0,      0,      0,      0,      0,      0,      0,\n",
            "             0,      0,      0,      0,      0,      0,      0,      0,      0,\n",
            "             0,      0,      0,      0,      0,      0,      0,      0,      0,\n",
            "             0,      0,      0,      0,      0,      0,      0,      0,      0,\n",
            "             0,      0,      0,      0,      0,      0,      0,      0,      0,\n",
            "             0,      0,      0,      0,      0,      0,      0,      0,      0,\n",
            "             0,      0,      0,      0,      0,      0,      0,      0,      0,\n",
            "             0,      0,      0,      0,      0,      0,      0,      0,      0,\n",
            "             0,      0,      0,      0,      0,      0,      0,      0,      0,\n",
            "             0,      0,      0,      0,      0,      0,      0,      0,      0,\n",
            "             0,      0,      0,      0,      0,      0,      0,      0,      0,\n",
            "             0,      0,      0,      0,      0,      0,      0,      0,      0,\n",
            "             0,      0,      0,      0,      0]), Label: tensor([1., 0.])\n",
            "Batch 3 - Input shape: torch.Size([32, 500]), Label shape: torch.Size([32, 2])\n",
            "  Input 1: tensor([    43,    122,    837,     39,    321,     22,   4368,   5227,   5662,\n",
            "          9475,   2148,   1629,      7,   5538,    262,     38,     43,   3938,\n",
            "          1000,     14,   4682,      7,   7015,    191,     35,     42,      9,\n",
            "           335,     58,     81,    602,     15,   2493,   1159, 211199,   4368,\n",
            "          3453,      4,    194,   2708,    155,     16,     63,     20,    212,\n",
            "          1296,  14567,   2531,      9,   5908,     43,   5022,     43,    121,\n",
            "             0,      0,      0,      0,      0,      0,      0,      0,      0,\n",
            "             0,      0,      0,      0,      0,      0,      0,      0,      0,\n",
            "             0,      0,      0,      0,      0,      0,      0,      0,      0,\n",
            "             0,      0,      0,      0,      0,      0,      0,      0,      0,\n",
            "             0,      0,      0,      0,      0,      0,      0,      0,      0,\n",
            "             0,      0,      0,      0,      0,      0,      0,      0,      0,\n",
            "             0,      0,      0,      0,      0,      0,      0,      0,      0,\n",
            "             0,      0,      0,      0,      0,      0,      0,      0,      0,\n",
            "             0,      0,      0,      0,      0,      0,      0,      0,      0,\n",
            "             0,      0,      0,      0,      0,      0,      0,      0,      0,\n",
            "             0,      0,      0,      0,      0,      0,      0,      0,      0,\n",
            "             0,      0,      0,      0,      0,      0,      0,      0,      0,\n",
            "             0,      0,      0,      0,      0,      0,      0,      0,      0,\n",
            "             0,      0,      0,      0,      0,      0,      0,      0,      0,\n",
            "             0,      0,      0,      0,      0,      0,      0,      0,      0,\n",
            "             0,      0,      0,      0,      0,      0,      0,      0,      0,\n",
            "             0,      0,      0,      0,      0,      0,      0,      0,      0,\n",
            "             0,      0,      0,      0,      0,      0,      0,      0,      0,\n",
            "             0,      0,      0,      0,      0,      0,      0,      0,      0,\n",
            "             0,      0,      0,      0,      0,      0,      0,      0,      0,\n",
            "             0,      0,      0,      0,      0,      0,      0,      0,      0,\n",
            "             0,      0,      0,      0,      0,      0,      0,      0,      0,\n",
            "             0,      0,      0,      0,      0,      0,      0,      0,      0,\n",
            "             0,      0,      0,      0,      0,      0,      0,      0,      0,\n",
            "             0,      0,      0,      0,      0,      0,      0,      0,      0,\n",
            "             0,      0,      0,      0,      0,      0,      0,      0,      0,\n",
            "             0,      0,      0,      0,      0,      0,      0,      0,      0,\n",
            "             0,      0,      0,      0,      0,      0,      0,      0,      0,\n",
            "             0,      0,      0,      0,      0,      0,      0,      0,      0,\n",
            "             0,      0,      0,      0,      0,      0,      0,      0,      0,\n",
            "             0,      0,      0,      0,      0,      0,      0,      0,      0,\n",
            "             0,      0,      0,      0,      0,      0,      0,      0,      0,\n",
            "             0,      0,      0,      0,      0,      0,      0,      0,      0,\n",
            "             0,      0,      0,      0,      0,      0,      0,      0,      0,\n",
            "             0,      0,      0,      0,      0,      0,      0,      0,      0,\n",
            "             0,      0,      0,      0,      0,      0,      0,      0,      0,\n",
            "             0,      0,      0,      0,      0,      0,      0,      0,      0,\n",
            "             0,      0,      0,      0,      0,      0,      0,      0,      0,\n",
            "             0,      0,      0,      0,      0,      0,      0,      0,      0,\n",
            "             0,      0,      0,      0,      0,      0,      0,      0,      0,\n",
            "             0,      0,      0,      0,      0,      0,      0,      0,      0,\n",
            "             0,      0,      0,      0,      0,      0,      0,      0,      0,\n",
            "             0,      0,      0,      0,      0,      0,      0,      0,      0,\n",
            "             0,      0,      0,      0,      0,      0,      0,      0,      0,\n",
            "             0,      0,      0,      0,      0,      0,      0,      0,      0,\n",
            "             0,      0,      0,      0,      0,      0,      0,      0,      0,\n",
            "             0,      0,      0,      0,      0,      0,      0,      0,      0,\n",
            "             0,      0,      0,      0,      0,      0,      0,      0,      0,\n",
            "             0,      0,      0,      0,      0,      0,      0,      0,      0,\n",
            "             0,      0,      0,      0,      0]), Label: tensor([0., 1.])\n",
            "  Input 2: tensor([    39,     16,   3962,   9958,      4,     49,   5339,   6999, 136285,\n",
            "            35,    132,   2600,      5,    391,      4,     43,     35,    334,\n",
            "          5239,    104,     16,    221,     61,   3256, 119285,     48,   4876,\n",
            "         20287,      4,  14238,   3987,     16,    102,   1071,     39,  90879,\n",
            "            69,    392,     35,     53,    896,   1097,      0,    793,    115,\n",
            "            65,     16,     86,    181,     69,     56,     35,   1467,    132,\n",
            "           155,      5,     39, 284843,   5232,    806,      3,   8740,     43,\n",
            "         21130,     90,     14,     98,   2461,     43,     88,    598,     24,\n",
            "           340,     50,     48,     57,    656,     14,     34,  65566,     48,\n",
            "          5468,      4,     65,     16,   4016,      5,     14,      8,     39,\n",
            "             4,     49,   2710,  14975,      4,     65,    590, 228957,    132,\n",
            "            70,   1390,      6,   4468,     39,      4,     39,     16,   1691,\n",
            "          2592,      2,    884,   3633,      5,    310,     15,    435,      5,\n",
            "           321,     14,     43,     35,    543,      8,      9,    175,     81,\n",
            "             4,  10409,     39,     24,     66,    774,      3, 363012,     32,\n",
            "          7394,     83,    121,      4,      0,      0,      0,      0,      0,\n",
            "             0,      0,      0,      0,      0,      0,      0,      0,      0,\n",
            "             0,      0,      0,      0,      0,      0,      0,      0,      0,\n",
            "             0,      0,      0,      0,      0,      0,      0,      0,      0,\n",
            "             0,      0,      0,      0,      0,      0,      0,      0,      0,\n",
            "             0,      0,      0,      0,      0,      0,      0,      0,      0,\n",
            "             0,      0,      0,      0,      0,      0,      0,      0,      0,\n",
            "             0,      0,      0,      0,      0,      0,      0,      0,      0,\n",
            "             0,      0,      0,      0,      0,      0,      0,      0,      0,\n",
            "             0,      0,      0,      0,      0,      0,      0,      0,      0,\n",
            "             0,      0,      0,      0,      0,      0,      0,      0,      0,\n",
            "             0,      0,      0,      0,      0,      0,      0,      0,      0,\n",
            "             0,      0,      0,      0,      0,      0,      0,      0,      0,\n",
            "             0,      0,      0,      0,      0,      0,      0,      0,      0,\n",
            "             0,      0,      0,      0,      0,      0,      0,      0,      0,\n",
            "             0,      0,      0,      0,      0,      0,      0,      0,      0,\n",
            "             0,      0,      0,      0,      0,      0,      0,      0,      0,\n",
            "             0,      0,      0,      0,      0,      0,      0,      0,      0,\n",
            "             0,      0,      0,      0,      0,      0,      0,      0,      0,\n",
            "             0,      0,      0,      0,      0,      0,      0,      0,      0,\n",
            "             0,      0,      0,      0,      0,      0,      0,      0,      0,\n",
            "             0,      0,      0,      0,      0,      0,      0,      0,      0,\n",
            "             0,      0,      0,      0,      0,      0,      0,      0,      0,\n",
            "             0,      0,      0,      0,      0,      0,      0,      0,      0,\n",
            "             0,      0,      0,      0,      0,      0,      0,      0,      0,\n",
            "             0,      0,      0,      0,      0,      0,      0,      0,      0,\n",
            "             0,      0,      0,      0,      0,      0,      0,      0,      0,\n",
            "             0,      0,      0,      0,      0,      0,      0,      0,      0,\n",
            "             0,      0,      0,      0,      0,      0,      0,      0,      0,\n",
            "             0,      0,      0,      0,      0,      0,      0,      0,      0,\n",
            "             0,      0,      0,      0,      0,      0,      0,      0,      0,\n",
            "             0,      0,      0,      0,      0,      0,      0,      0,      0,\n",
            "             0,      0,      0,      0,      0,      0,      0,      0,      0,\n",
            "             0,      0,      0,      0,      0,      0,      0,      0,      0,\n",
            "             0,      0,      0,      0,      0,      0,      0,      0,      0,\n",
            "             0,      0,      0,      0,      0,      0,      0,      0,      0,\n",
            "             0,      0,      0,      0,      0,      0,      0,      0,      0,\n",
            "             0,      0,      0,      0,      0,      0,      0,      0,      0,\n",
            "             0,      0,      0,      0,      0,      0,      0,      0,      0,\n",
            "             0,      0,      0,      0,      0,      0,      0,      0,      0,\n",
            "             0,      0,      0,      0,      0]), Label: tensor([1., 0.])\n"
          ]
        }
      ]
    },
    {
      "cell_type": "code",
      "source": [
        "dd = pd.Series(y_train).value_counts()\n",
        "sns.barplot(x=np.array(['negative','positive']),y=dd.values)\n",
        "plt.show()"
      ],
      "metadata": {
        "colab": {
          "base_uri": "https://localhost:8080/",
          "height": 430
        },
        "id": "EQIwKmf0lgGc",
        "outputId": "b49a440c-8b7c-499d-c19d-25c90e648bee"
      },
      "execution_count": 30,
      "outputs": [
        {
          "output_type": "display_data",
          "data": {
            "text/plain": [
              "<Figure size 640x480 with 1 Axes>"
            ],
            "image/png": "[encoded data removed]"
          },
          "metadata": {}
        }
      ]
    },
    {
      "cell_type": "markdown",
      "source": [
        "#Model"
      ],
      "metadata": {
        "id": "LocV4GL7kUoQ"
      }
    },
    {
      "cell_type": "code",
      "source": [
        "class LSTMClassifier(nn.Module):\n",
        "    def __init__(self, embedding_layer, hidden_size,\n",
        "                 num_classes=2,\n",
        "                 embedding_dim=100,\n",
        "                 num_layers=2,\n",
        "                 bidirectional=True,\n",
        "                 dropout=0.1):\n",
        "        super(LSTMClassifier, self).__init__()\n",
        "        self.embedding = embedding_layer\n",
        "        self.fc1 = nn.Sequential(\n",
        "            nn.Linear(embedding_dim,embedding_dim),\n",
        "            nn.ReLU(),\n",
        "        )\n",
        "        self.lstm = nn.LSTM(input_size=embedding_dim, hidden_size=hidden_size,\n",
        "                            num_layers = num_layers,\n",
        "                            bidirectional = bidirectional,\n",
        "                            dropout=dropout,\n",
        "                            batch_first=True)\n",
        "\n",
        "        self.fc2 = nn.Sequential(\n",
        "            nn.Linear(hidden_size * 2, hidden_size),\n",
        "            nn.ReLU(),\n",
        "            nn.Linear(hidden_size, num_classes),\n",
        "        )\n",
        "        self.sig = nn.Sigmoid()\n",
        "\n",
        "    def forward(self, input_indices):\n",
        "        embedded = self.embedding(input_indices)\n",
        "        fc1_output = self.fc1(embedded)\n",
        "        lstm_out, _ = self.lstm(fc1_output)\n",
        "        fc2_output = self.fc2(lstm_out[:, -1, :])\n",
        "        output = self.sig(fc2_output)\n",
        "        return output\n",
        ""
      ],
      "metadata": {
        "id": "ihmWSVGo9_SE"
      },
      "execution_count": 31,
      "outputs": []
    },
    {
      "cell_type": "code",
      "source": [
        "def create_embedding(weight_dict, trainable=False):\n",
        "    vocab_size, embedding_dim = len(weight_dict), len(next(iter(weight_dict.values())))\n",
        "\n",
        "    # Initialize an embedding layer with random weights\n",
        "    emb_layer = nn.Embedding(vocab_size, embedding_dim)\n",
        "\n",
        "    # Load the pre-trained weights into the embedding layer\n",
        "    emb_layer.weight.data.copy_(torch.tensor(list(weight_dict.values())))\n",
        "\n",
        "    # Set requires_grad based on the trainable flag\n",
        "    emb_layer.weight.requires_grad = trainable\n",
        "\n",
        "    return emb_layer"
      ],
      "metadata": {
        "id": "693iwNYr7Jvg"
      },
      "execution_count": 32,
      "outputs": []
    },
    {
      "cell_type": "code",
      "source": [
        "embedding_layer = create_embedding(glove)"
      ],
      "metadata": {
        "id": "tT3tbu2aOi2O",
        "colab": {
          "base_uri": "https://localhost:8080/"
        },
        "outputId": "44d2f78a-7ff1-4321-b48d-e378ba9979f4"
      },
      "execution_count": 33,
      "outputs": [
        {
          "output_type": "stream",
          "name": "stderr",
          "text": [
            "<ipython-input-32-919963caf68c>:8: UserWarning: Creating a tensor from a list of numpy.ndarrays is extremely slow. Please consider converting the list to a single numpy.ndarray with numpy.array() before converting to a tensor. (Triggered internally at ../torch/csrc/utils/tensor_new.cpp:261.)\n",
            "  emb_layer.weight.data.copy_(torch.tensor(list(weight_dict.values())))\n"
          ]
        }
      ]
    },
    {
      "cell_type": "code",
      "source": [
        "weights = embedding_layer.weight.data\n",
        "print(weights)"
      ],
      "metadata": {
        "colab": {
          "base_uri": "https://localhost:8080/"
        },
        "id": "mi3n1We0f51d",
        "outputId": "aa188733-67cd-4dae-85b4-c842ab532f99"
      },
      "execution_count": 34,
      "outputs": [
        {
          "output_type": "stream",
          "name": "stdout",
          "text": [
            "tensor([[ 0.0000,  0.0000,  0.0000,  ...,  0.0000,  0.0000,  0.0000],\n",
            "        [ 0.0521, -0.0971, -0.1381,  ...,  0.1238, -0.2343, -0.0093],\n",
            "        [-0.0382, -0.2449,  0.7281,  ..., -0.1459,  0.8278,  0.2706],\n",
            "        ...,\n",
            "        [ 0.3609, -0.1692, -0.3270,  ...,  0.2714, -0.2919,  0.1611],\n",
            "        [-0.1046, -0.5047, -0.4933,  ...,  0.4253, -0.5125, -0.1705],\n",
            "        [ 0.2837, -0.6263, -0.4435,  ...,  0.4368, -0.8261, -0.1570]])\n"
          ]
        }
      ]
    },
    {
      "cell_type": "code",
      "source": [
        "if torch.cuda.is_available():\n",
        "    device = torch.device('cuda')\n",
        "    print(\"GPU is used\")\n",
        "\n",
        "else:\n",
        "    device = torch.device('cpu')\n",
        "    print(\"GPU not available, CPU used\")"
      ],
      "metadata": {
        "colab": {
          "base_uri": "https://localhost:8080/"
        },
        "id": "VQiLDcC6BvLX",
        "outputId": "11aa923f-0d62-48b1-f071-ed8c8edf99ca"
      },
      "execution_count": 35,
      "outputs": [
        {
          "output_type": "stream",
          "name": "stdout",
          "text": [
            "GPU is used\n"
          ]
        }
      ]
    },
    {
      "cell_type": "code",
      "source": [
        "hidden_dim = 128\n",
        "output_dim = 2"
      ],
      "metadata": {
        "id": "h9aAuqFxvP03"
      },
      "execution_count": 36,
      "outputs": []
    },
    {
      "cell_type": "code",
      "source": [
        "# Create the custom model with the embedding layer\n",
        "model = LSTMClassifier(embedding_layer, hidden_dim)"
      ],
      "metadata": {
        "id": "l9mkE6-2vLrD"
      },
      "execution_count": 37,
      "outputs": []
    },
    {
      "cell_type": "code",
      "source": [
        "# Define loss function and optimizer\n",
        "criterion = nn.CrossEntropyLoss()\n",
        "optimizer = optim.Adam(model.parameters(), lr=0.001)"
      ],
      "metadata": {
        "id": "24OhAud6vaGw"
      },
      "execution_count": 38,
      "outputs": []
    },
    {
      "cell_type": "code",
      "source": [
        "def match(output,label):\n",
        "  prediction = int(torch.argmax(output))\n",
        "  actual_label = int(torch.argmax(label))\n",
        "  matched = False\n",
        "  if prediction == actual_label:\n",
        "    matched = True\n",
        "  return matched\n"
      ],
      "metadata": {
        "id": "h4PZc9cWU33e"
      },
      "execution_count": 39,
      "outputs": []
    },
    {
      "cell_type": "code",
      "source": [
        "print(match(torch.tensor([1.5, 4.3, 3.1]),torch.tensor([0,1,0])))"
      ],
      "metadata": {
        "colab": {
          "base_uri": "https://localhost:8080/"
        },
        "id": "35_iLYWGYvZb",
        "outputId": "42a7d185-415f-4fc5-dac9-c3215f2e7ec3"
      },
      "execution_count": 40,
      "outputs": [
        {
          "output_type": "stream",
          "name": "stdout",
          "text": [
            "True\n"
          ]
        }
      ]
    },
    {
      "cell_type": "code",
      "source": [
        "def train(model,num_epochs,optimizer,loss_function,train_loader,validation_loader,device):\n",
        "  model = model.to(device)\n",
        "  for epoch in range(num_epochs):\n",
        "      model.train()\n",
        "      total_loss = 0\n",
        "      n_correct =0\n",
        "      n_incorrect =0\n",
        "\n",
        "      # Training Phase\n",
        "      for batch_idx, (inputs, labels) in enumerate(train_loader):\n",
        "          optimizer.zero_grad()\n",
        "          inputs, labels = inputs.to(device), labels.to(device)\n",
        "          outputs = model(inputs)\n",
        "          loss = loss_function(outputs, labels)\n",
        "          loss.backward()\n",
        "          optimizer.step()\n",
        "\n",
        "          for label,output in zip(labels,outputs):\n",
        "            if match(output,label):\n",
        "              n_correct +=1\n",
        "            else:\n",
        "              n_incorrect+=1\n",
        "\n",
        "          total_loss += loss.item()\n",
        "\n",
        "      average_loss = total_loss / len(train_loader)\n",
        "      total_accuracy = n_correct/(n_correct+n_incorrect)\n",
        "      print(f\"Epoch {epoch + 1}/{num_epochs}, Training Loss  : {average_loss:.10f}, Training Accuracy  : {total_accuracy:.4f}\")\n",
        "\n",
        "\n",
        "      # Validation phase\n",
        "      model.eval()\n",
        "      val_loss = 0\n",
        "      val_n_correct = 0\n",
        "      val_n_incorrect = 0\n",
        "\n",
        "      with torch.no_grad():\n",
        "          for val_inputs, val_labels in validation_loader:\n",
        "              val_inputs, val_labels = val_inputs.to(device), val_labels.to(device)\n",
        "              val_outputs = model(val_inputs)\n",
        "              val_loss += loss_function(val_outputs, val_labels).item()\n",
        "\n",
        "              for val_label, val_output in zip(val_labels, val_outputs):\n",
        "                  if match(val_output, val_label):\n",
        "                      val_n_correct += 1\n",
        "                  else:\n",
        "                      val_n_incorrect += 1\n",
        "\n",
        "      val_average_loss = val_loss / len(validation_loader)\n",
        "      val_total_accuracy = val_n_correct / (val_n_correct + val_n_incorrect)\n",
        "\n",
        "      print(f\"Epoch {epoch + 1}/{num_epochs}, Validation Loss: {val_average_loss:.10f}, Validation Accuracy: {val_total_accuracy:.4f}\")\n",
        "      print()\n",
        "\n",
        "  return model"
      ],
      "metadata": {
        "id": "g8WA4nf0gWlI"
      },
      "execution_count": 41,
      "outputs": []
    },
    {
      "cell_type": "code",
      "source": [
        "trained_model = train(model,10,optimizer,criterion,train_loader,val_loader,device)"
      ],
      "metadata": {
        "colab": {
          "base_uri": "https://localhost:8080/"
        },
        "id": "7oblMxYOwwUj",
        "outputId": "c6c3c5ea-5140-432f-d520-f54034cb4a0e"
      },
      "execution_count": 42,
      "outputs": [
        {
          "output_type": "stream",
          "name": "stdout",
          "text": [
            "Epoch 1/10, Training Loss  : 0.6931025606, Training Accuracy  : 0.5061\n",
            "Epoch 1/10, Validation Loss: 0.6928429018, Validation Accuracy: 0.5083\n",
            "\n",
            "Epoch 2/10, Training Loss  : 0.6923840120, Training Accuracy  : 0.5083\n",
            "Epoch 2/10, Validation Loss: 0.6930514403, Validation Accuracy: 0.5043\n",
            "\n",
            "Epoch 3/10, Training Loss  : 0.6872031362, Training Accuracy  : 0.5289\n",
            "Epoch 3/10, Validation Loss: 0.5840688495, Validation Accuracy: 0.7118\n",
            "\n",
            "Epoch 4/10, Training Loss  : 0.4945873067, Training Accuracy  : 0.8125\n",
            "Epoch 4/10, Validation Loss: 0.4736459040, Validation Accuracy: 0.8336\n",
            "\n",
            "Epoch 5/10, Training Loss  : 0.4657799624, Training Accuracy  : 0.8418\n",
            "Epoch 5/10, Validation Loss: 0.4554068692, Validation Accuracy: 0.8544\n",
            "\n",
            "Epoch 6/10, Training Loss  : 0.4467322310, Training Accuracy  : 0.8599\n",
            "Epoch 6/10, Validation Loss: 0.4431265134, Validation Accuracy: 0.8603\n",
            "\n",
            "Epoch 7/10, Training Loss  : 0.4437501639, Training Accuracy  : 0.8642\n",
            "Epoch 7/10, Validation Loss: 0.4513777040, Validation Accuracy: 0.8589\n",
            "\n",
            "Epoch 8/10, Training Loss  : 0.4330012193, Training Accuracy  : 0.8752\n",
            "Epoch 8/10, Validation Loss: 0.4378836976, Validation Accuracy: 0.8686\n",
            "\n",
            "Epoch 9/10, Training Loss  : 0.4271658273, Training Accuracy  : 0.8807\n",
            "Epoch 9/10, Validation Loss: 0.4329016934, Validation Accuracy: 0.8747\n",
            "\n",
            "Epoch 10/10, Training Loss  : 0.4220928571, Training Accuracy  : 0.8865\n",
            "Epoch 10/10, Validation Loss: 0.4390589980, Validation Accuracy: 0.8704\n",
            "\n"
          ]
        }
      ]
    },
    {
      "cell_type": "code",
      "source": [
        "# i=0\n",
        "# model = model.to(device)\n",
        "# model.train()\n",
        "# for batch_idx, (inputs, labels) in enumerate(train_loader):\n",
        "#   print(inputs,labels)\n",
        "#   inputs, labels = inputs.to(device), labels.to(device)\n",
        "#   outputs = model(inputs)\n",
        "#   print(outputs)\n",
        "#   i+=1\n",
        "#   if i>=5:\n",
        "#     break"
      ],
      "metadata": {
        "id": "4m8jEvlVyM4O"
      },
      "execution_count": null,
      "outputs": []
    },
    {
      "cell_type": "code",
      "source": [
        "def test(model, test_loader, device):\n",
        "    model.eval()\n",
        "    total_correct = 0\n",
        "    total_samples = 0\n",
        "\n",
        "    with torch.no_grad():\n",
        "        for inputs, labels in test_loader:\n",
        "            inputs, labels = inputs.to(device), labels.to(device)\n",
        "\n",
        "            # Forward pass\n",
        "            outputs = model(inputs)\n",
        "\n",
        "            # Make predictions\n",
        "            # _, predicted = torch.max(outputs, 1)\n",
        "\n",
        "            if match(outputs,labels):\n",
        "              total_correct+=1\n",
        "            total_samples+=1\n",
        "\n",
        "\n",
        "    accuracy = total_correct / total_samples\n",
        "    print(f'Testing Accuracy: {accuracy:.4f}')\n"
      ],
      "metadata": {
        "id": "BcJh3DoYgzvH"
      },
      "execution_count": 54,
      "outputs": []
    },
    {
      "cell_type": "code",
      "source": [
        "test(trained_model,test_loader,device)"
      ],
      "metadata": {
        "colab": {
          "base_uri": "https://localhost:8080/"
        },
        "id": "eZT9rjJwsyHg",
        "outputId": "c82baa9b-64ac-46a0-8f43-e98fce88536c"
      },
      "execution_count": 55,
      "outputs": [
        {
          "output_type": "stream",
          "name": "stdout",
          "text": [
            "Testing Accuracy: 0.8667\n"
          ]
        }
      ]
    },
    {
      "cell_type": "code",
      "source": [
        "# Save the model\n",
        "model_path = '/content/drive/MyDrive/Models/lstm_imdb_model.pth'\n",
        "torch.save(model.state_dict(), model_path)"
      ],
      "metadata": {
        "id": "FZc2w-i285mH"
      },
      "execution_count": 56,
      "outputs": []
    },
    {
      "cell_type": "code",
      "source": [],
      "metadata": {
        "id": "qvRqUXk8Brjk"
      },
      "execution_count": null,
      "outputs": []
    }
  ]
}